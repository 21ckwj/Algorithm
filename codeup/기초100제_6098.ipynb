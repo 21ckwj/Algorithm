{
 "cells": [
  {
   "cell_type": "markdown",
   "id": "af3bfb14",
   "metadata": {},
   "source": [
    "# 6098"
   ]
  },
  {
   "cell_type": "markdown",
   "id": "bb86ffab",
   "metadata": {},
   "source": [
    "영일이는 생명과학에 관심이 생겨 왕개미를 연구하고 있었다.\n",
    "\n",
    "왕개미를 유심히 살펴보던 중 특별히 성실해 보이는 개미가 있었는데,\n",
    "그 개미는 개미굴에서 나와 먹이까지 가장 빠른 길로 이동하는 것이었다.\n",
    "\n",
    "개미는 오른쪽으로 움직이다가 벽을 만나면 아래쪽으로 움직여 가장 빠른 길로 움직였다.\n",
    "(오른쪽에 길이 나타나면 다시 오른쪽으로 움직인다.)\n",
    "\n",
    "이에 호기심이 생긴 영일이는 그 개미를 미로 상자에 넣고 살펴보기 시작하였다.\n",
    "\n",
    "미로 상자에 넣은 개미는 먹이를 찾았거나, 더 이상 움직일 수 없을 때까지\n",
    "오른쪽 또는 아래쪽으로만 움직였다.\n",
    "\n",
    "미로 상자의 구조가 0(갈 수 있는 곳), 1(벽 또는 장애물)로 주어지고,\n",
    "먹이가 2로 주어질 때, 성실한 개미의 이동 경로를 예상해보자.\n",
    "\n",
    "단, 맨 아래의 가장 오른쪽에 도착한 경우, 더 이상 움직일 수 없는 경우, 먹이를 찾은 경우에는\n",
    "더이상 이동하지 않고 그 곳에 머무른다고 가정한다.\n",
    "\n",
    "미로 상자의 테두리는 모두 벽으로 되어 있으며,\n",
    "개미집은 반드시 (2, 2)에 존재하기 때문에 개미는 (2, 2)에서 출발한다.\n"
   ]
  },
  {
   "cell_type": "markdown",
   "id": "0e3ead27",
   "metadata": {},
   "source": [
    "---"
   ]
  },
  {
   "cell_type": "markdown",
   "id": "a5477c02",
   "metadata": {},
   "source": [
    "* input: 10*10 크기의 미로 상자의 구조와 먹이의 위치가 입력된다.\n",
    "\n",
    "1 1 1 1 1 1 1 1 1 1<br>\n",
    "1 0 0 1 0 0 0 0 0 1<br>\n",
    "1 0 0 1 1 1 0 0 0 1<br>\n",
    "1 0 0 0 0 0 0 1 0 1<br>\n",
    "1 0 0 0 0 0 0 1 0 1<br>\n",
    "1 0 0 0 0 1 0 1 0 1<br>\n",
    "1 0 0 0 0 1 2 1 0 1<br>\n",
    "1 0 0 0 0 1 0 0 0 1<br>\n",
    "1 0 0 0 0 0 0 0 0 1<br>\n",
    "1 1 1 1 1 1 1 1 1 1<br>\n",
    "\n",
    "* output: 성실한 개미가 이동한 경로를 9로 표시해 출력한다.\n",
    "\n",
    "1 1 1 1 1 1 1 1 1 1<br>\n",
    "1 9 9 1 0 0 0 0 0 1<br>\n",
    "1 0 9 1 1 1 0 0 0 1<br>\n",
    "1 0 9 9 9 9 9 1 0 1<br>\n",
    "1 0 0 0 0 0 9 1 0 1<br>\n",
    "1 0 0 0 0 1 9 1 0 1<br>\n",
    "1 0 0 0 0 1 9 1 0 1<br>\n",
    "1 0 0 0 0 1 0 0 0 1<br>\n",
    "1 0 0 0 0 0 0 0 0 1<br>\n",
    "1 1 1 1 1 1 1 1 1 1<br>\n",
    "\n"
   ]
  },
  {
   "cell_type": "markdown",
   "id": "4b58892f",
   "metadata": {
    "ExecuteTime": {
     "end_time": "2022-09-09T08:22:26.280276Z",
     "start_time": "2022-09-09T08:22:26.265106Z"
    }
   },
   "source": [
    "---"
   ]
  },
  {
   "cell_type": "code",
   "execution_count": 66,
   "id": "f453c461",
   "metadata": {
    "ExecuteTime": {
     "end_time": "2022-09-09T09:13:11.777895Z",
     "start_time": "2022-09-09T09:13:11.755260Z"
    }
   },
   "outputs": [
    {
     "data": {
      "text/plain": [
       "[[], []]"
      ]
     },
     "execution_count": 66,
     "metadata": {},
     "output_type": "execute_result"
    }
   ],
   "source": [
    "# 개미 지도 만들기\n",
    "d = [[] for _ in range(2)]\n",
    "d"
   ]
  },
  {
   "cell_type": "code",
   "execution_count": 67,
   "id": "a78a5f9d",
   "metadata": {
    "ExecuteTime": {
     "end_time": "2022-09-09T09:14:28.309359Z",
     "start_time": "2022-09-09T09:13:13.620624Z"
    }
   },
   "outputs": [
    {
     "name": "stdout",
     "output_type": "stream",
     "text": [
      "1 1 1 1 1 1 1 1 1 1\n",
      "1 0 0 1 0 0 0 0 0 1\n",
      "1 0 0 1 1 1 0 0 0 1\n",
      "1 0 0 0 0 0 0 1 0 1\n",
      "1 0 0 0 0 0 0 1 0 1\n",
      "1 0 0 0 0 1 0 1 0 1\n",
      "1 0 0 0 0 1 2 1 0 1\n",
      "1 0 0 0 0 1 0 0 0 1\n",
      "1 0 0 0 0 0 0 0 0 1\n",
      "1 1 1 1 1 1 1 1 1 1\n"
     ]
    }
   ],
   "source": [
    "l = 10\n",
    "d = [[] for _ in range(l)]\n",
    "for i in range(l):\n",
    "    d[i]= list(map(int,input().split()))"
   ]
  },
  {
   "cell_type": "code",
   "execution_count": 39,
   "id": "526426a9",
   "metadata": {
    "ExecuteTime": {
     "end_time": "2022-09-09T09:00:33.509037Z",
     "start_time": "2022-09-09T09:00:33.500594Z"
    }
   },
   "outputs": [],
   "source": [
    "# 1 1 1 1 1 1 1 1 1 1\n",
    "# 1 0 0 1 0 0 0 0 0 1\n",
    "# 1 0 0 1 1 1 0 0 0 1\n",
    "# 1 0 0 0 0 0 0 1 0 1\n",
    "# 1 0 0 0 0 0 0 1 0 1\n",
    "# 1 0 0 0 0 1 0 1 0 1\n",
    "# 1 0 0 0 0 1 2 1 0 1\n",
    "# 1 0 0 0 0 1 0 0 0 1\n",
    "# 1 0 0 0 0 0 0 0 0 1\n",
    "# 1 1 1 1 1 1 1 1 1 1"
   ]
  },
  {
   "cell_type": "code",
   "execution_count": 74,
   "id": "17a8f144",
   "metadata": {
    "ExecuteTime": {
     "end_time": "2022-09-09T09:18:56.719468Z",
     "start_time": "2022-09-09T09:18:56.706559Z"
    }
   },
   "outputs": [
    {
     "data": {
      "text/plain": [
       "[[1, 1, 1, 1, 1, 1, 1, 1, 1, 1],\n",
       " [1, 9, 9, 1, 0, 0, 0, 0, 0, 1],\n",
       " [1, 0, 9, 1, 1, 1, 0, 0, 0, 1],\n",
       " [1, 0, 9, 9, 9, 9, 9, 1, 0, 1],\n",
       " [1, 0, 0, 0, 0, 0, 9, 1, 0, 1],\n",
       " [1, 0, 0, 0, 0, 1, 9, 1, 0, 1],\n",
       " [1, 0, 0, 0, 0, 1, 9, 1, 0, 1],\n",
       " [1, 0, 0, 0, 0, 1, 9, 9, 9, 1],\n",
       " [1, 0, 0, 0, 0, 0, 0, 0, 9, 1],\n",
       " [1, 1, 1, 1, 1, 1, 1, 1, 9, 1]]"
      ]
     },
     "execution_count": 74,
     "metadata": {},
     "output_type": "execute_result"
    }
   ],
   "source": [
    "d"
   ]
  },
  {
   "cell_type": "code",
   "execution_count": 75,
   "id": "2fb40cb3",
   "metadata": {
    "ExecuteTime": {
     "end_time": "2022-09-09T09:18:58.651908Z",
     "start_time": "2022-09-09T09:18:58.637478Z"
    }
   },
   "outputs": [],
   "source": [
    "d1 = d.copy()"
   ]
  },
  {
   "cell_type": "code",
   "execution_count": 76,
   "id": "629c4922",
   "metadata": {
    "ExecuteTime": {
     "end_time": "2022-09-09T09:18:59.014288Z",
     "start_time": "2022-09-09T09:18:58.993426Z"
    }
   },
   "outputs": [
    {
     "data": {
      "text/plain": [
       "[[1, 1, 1, 1, 1, 1, 1, 1, 1, 1],\n",
       " [1, 9, 9, 1, 0, 0, 0, 0, 0, 1],\n",
       " [1, 0, 9, 1, 1, 1, 0, 0, 0, 1],\n",
       " [1, 0, 9, 9, 9, 9, 9, 1, 0, 1],\n",
       " [1, 0, 0, 0, 0, 0, 9, 1, 0, 1],\n",
       " [1, 0, 0, 0, 0, 1, 9, 1, 0, 1],\n",
       " [1, 0, 0, 0, 0, 1, 9, 1, 0, 1],\n",
       " [1, 0, 0, 0, 0, 1, 9, 9, 9, 1],\n",
       " [1, 0, 0, 0, 0, 0, 0, 0, 9, 1],\n",
       " [1, 1, 1, 1, 1, 1, 1, 1, 9, 1]]"
      ]
     },
     "execution_count": 76,
     "metadata": {},
     "output_type": "execute_result"
    }
   ],
   "source": [
    "d1"
   ]
  },
  {
   "cell_type": "code",
   "execution_count": 61,
   "id": "d6b22227",
   "metadata": {
    "ExecuteTime": {
     "end_time": "2022-09-09T09:10:22.608694Z",
     "start_time": "2022-09-09T09:10:22.592826Z"
    }
   },
   "outputs": [
    {
     "data": {
      "text/plain": [
       "0"
      ]
     },
     "execution_count": 61,
     "metadata": {},
     "output_type": "execute_result"
    }
   ],
   "source": [
    "# 개미집 (2,2)\n",
    "d[1][1]"
   ]
  },
  {
   "cell_type": "code",
   "execution_count": 72,
   "id": "a04609fc",
   "metadata": {
    "ExecuteTime": {
     "end_time": "2022-09-09T09:16:12.339385Z",
     "start_time": "2022-09-09T09:16:12.325419Z"
    }
   },
   "outputs": [],
   "source": [
    "# 개미집으로부터 오른쪽이동\n",
    "x=2\n",
    "y=2\n",
    "while (x<9) | (y<9): \n",
    "    # 오른쪽 한칸이동 시 0,1,2 경우 나눔\n",
    "    if d1[x-1][y-1+1]==0:\n",
    "        d1[x-1][y-1]=9\n",
    "        y+=1\n",
    "    elif d1[x-1][y-1+1]==1:\n",
    "        d1[x-1][y-1]=9\n",
    "        x+=1\n",
    "    else: #먹이인경우\n",
    "        d1[x-1][y-1]=9\n",
    "        break"
   ]
  },
  {
   "cell_type": "code",
   "execution_count": 73,
   "id": "b0e99e59",
   "metadata": {
    "ExecuteTime": {
     "end_time": "2022-09-09T09:16:13.232558Z",
     "start_time": "2022-09-09T09:16:13.217224Z"
    }
   },
   "outputs": [
    {
     "data": {
      "text/plain": [
       "[[1, 1, 1, 1, 1, 1, 1, 1, 1, 1],\n",
       " [1, 9, 9, 1, 0, 0, 0, 0, 0, 1],\n",
       " [1, 0, 9, 1, 1, 1, 0, 0, 0, 1],\n",
       " [1, 0, 9, 9, 9, 9, 9, 1, 0, 1],\n",
       " [1, 0, 0, 0, 0, 0, 9, 1, 0, 1],\n",
       " [1, 0, 0, 0, 0, 1, 9, 1, 0, 1],\n",
       " [1, 0, 0, 0, 0, 1, 9, 1, 0, 1],\n",
       " [1, 0, 0, 0, 0, 1, 9, 9, 9, 1],\n",
       " [1, 0, 0, 0, 0, 0, 0, 0, 9, 1],\n",
       " [1, 1, 1, 1, 1, 1, 1, 1, 9, 1]]"
      ]
     },
     "execution_count": 73,
     "metadata": {},
     "output_type": "execute_result"
    }
   ],
   "source": [
    "d1"
   ]
  },
  {
   "cell_type": "code",
   "execution_count": 65,
   "id": "dbcd0649",
   "metadata": {
    "ExecuteTime": {
     "end_time": "2022-09-09T09:11:55.693361Z",
     "start_time": "2022-09-09T09:11:55.673334Z"
    }
   },
   "outputs": [
    {
     "data": {
      "text/plain": [
       "[[1, 1, 1, 1, 1, 1, 1, 1, 1, 1],\n",
       " [1, 9, 9, 9, 0, 0, 0, 0, 0, 1],\n",
       " [1, 0, 9, 9, 1, 1, 0, 0, 0, 1],\n",
       " [1, 0, 0, 9, 9, 9, 9, 9, 0, 1],\n",
       " [1, 0, 0, 0, 0, 0, 0, 9, 0, 1],\n",
       " [1, 0, 0, 0, 0, 1, 0, 9, 0, 1],\n",
       " [1, 0, 0, 0, 0, 1, 2, 9, 0, 1],\n",
       " [1, 0, 0, 0, 0, 1, 0, 9, 9, 9],\n",
       " [1, 0, 0, 0, 0, 0, 0, 0, 0, 9],\n",
       " [1, 1, 1, 1, 1, 1, 1, 1, 1, 9]]"
      ]
     },
     "execution_count": 65,
     "metadata": {},
     "output_type": "execute_result"
    }
   ],
   "source": [
    "d"
   ]
  },
  {
   "cell_type": "code",
   "execution_count": null,
   "id": "eb2129f3",
   "metadata": {},
   "outputs": [],
   "source": []
  }
 ],
 "metadata": {
  "kernelspec": {
   "display_name": "Python 3 (ipykernel)",
   "language": "python",
   "name": "python3"
  },
  "language_info": {
   "codemirror_mode": {
    "name": "ipython",
    "version": 3
   },
   "file_extension": ".py",
   "mimetype": "text/x-python",
   "name": "python",
   "nbconvert_exporter": "python",
   "pygments_lexer": "ipython3",
   "version": "3.9.7"
  },
  "toc": {
   "base_numbering": 1,
   "nav_menu": {},
   "number_sections": true,
   "sideBar": true,
   "skip_h1_title": false,
   "title_cell": "Table of Contents",
   "title_sidebar": "Contents",
   "toc_cell": false,
   "toc_position": {},
   "toc_section_display": true,
   "toc_window_display": false
  },
  "varInspector": {
   "cols": {
    "lenName": 16,
    "lenType": 16,
    "lenVar": 40
   },
   "kernels_config": {
    "python": {
     "delete_cmd_postfix": "",
     "delete_cmd_prefix": "del ",
     "library": "var_list.py",
     "varRefreshCmd": "print(var_dic_list())"
    },
    "r": {
     "delete_cmd_postfix": ") ",
     "delete_cmd_prefix": "rm(",
     "library": "var_list.r",
     "varRefreshCmd": "cat(var_dic_list()) "
    }
   },
   "types_to_exclude": [
    "module",
    "function",
    "builtin_function_or_method",
    "instance",
    "_Feature"
   ],
   "window_display": false
  }
 },
 "nbformat": 4,
 "nbformat_minor": 5
}
