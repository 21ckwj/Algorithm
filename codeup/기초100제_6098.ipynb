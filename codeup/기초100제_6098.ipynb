{
 "cells": [
  {
   "cell_type": "markdown",
   "id": "51f5d436",
   "metadata": {},
   "source": [
    "# 6098"
   ]
  },
  {
   "cell_type": "markdown",
   "id": "10944b1c",
   "metadata": {},
   "source": [
    "영일이는 생명과학에 관심이 생겨 왕개미를 연구하고 있었다.\n",
    "\n",
    "왕개미를 유심히 살펴보던 중 특별히 성실해 보이는 개미가 있었는데,\n",
    "그 개미는 개미굴에서 나와 먹이까지 가장 빠른 길로 이동하는 것이었다.\n",
    "\n",
    "개미는 오른쪽으로 움직이다가 벽을 만나면 아래쪽으로 움직여 가장 빠른 길로 움직였다.\n",
    "(오른쪽에 길이 나타나면 다시 오른쪽으로 움직인다.)\n",
    "\n",
    "이에 호기심이 생긴 영일이는 그 개미를 미로 상자에 넣고 살펴보기 시작하였다.\n",
    "\n",
    "미로 상자에 넣은 개미는 먹이를 찾았거나, 더 이상 움직일 수 없을 때까지\n",
    "오른쪽 또는 아래쪽으로만 움직였다.\n",
    "\n",
    "미로 상자의 구조가 0(갈 수 있는 곳), 1(벽 또는 장애물)로 주어지고,\n",
    "먹이가 2로 주어질 때, 성실한 개미의 이동 경로를 예상해보자.\n",
    "\n",
    "단, 맨 아래의 가장 오른쪽에 도착한 경우, 더 이상 움직일 수 없는 경우, 먹이를 찾은 경우에는\n",
    "더이상 이동하지 않고 그 곳에 머무른다고 가정한다.\n",
    "\n",
    "미로 상자의 테두리는 모두 벽으로 되어 있으며,\n",
    "개미집은 반드시 (2, 2)에 존재하기 때문에 개미는 (2, 2)에서 출발한다.\n"
   ]
  },
  {
   "cell_type": "markdown",
   "id": "3f19ec54",
   "metadata": {},
   "source": [
    "---"
   ]
  },
  {
   "cell_type": "markdown",
   "id": "e705a5f3",
   "metadata": {},
   "source": [
    "* input: 10*10 크기의 미로 상자의 구조와 먹이의 위치가 입력된다.\n",
    "\n",
    "1 1 1 1 1 1 1 1 1 1<br>\n",
    "1 0 0 1 0 0 0 0 0 1<br>\n",
    "1 0 0 1 1 1 0 0 0 1<br>\n",
    "1 0 0 0 0 0 0 1 0 1<br>\n",
    "1 0 0 0 0 0 0 1 0 1<br>\n",
    "1 0 0 0 0 1 0 1 0 1<br>\n",
    "1 0 0 0 0 1 2 1 0 1<br>\n",
    "1 0 0 0 0 1 0 0 0 1<br>\n",
    "1 0 0 0 0 0 0 0 0 1<br>\n",
    "1 1 1 1 1 1 1 1 1 1<br>\n",
    "\n",
    "* output: 성실한 개미가 이동한 경로를 9로 표시해 출력한다.\n",
    "\n",
    "1 1 1 1 1 1 1 1 1 1<br>\n",
    "1 9 9 1 0 0 0 0 0 1<br>\n",
    "1 0 9 1 1 1 0 0 0 1<br>\n",
    "1 0 9 9 9 9 9 1 0 1<br>\n",
    "1 0 0 0 0 0 9 1 0 1<br>\n",
    "1 0 0 0 0 1 9 1 0 1<br>\n",
    "1 0 0 0 0 1 9 1 0 1<br>\n",
    "1 0 0 0 0 1 0 0 0 1<br>\n",
    "1 0 0 0 0 0 0 0 0 1<br>\n",
    "1 1 1 1 1 1 1 1 1 1<br>\n",
    "\n"
   ]
  },
  {
   "cell_type": "markdown",
   "id": "6c7f83b5",
   "metadata": {
    "ExecuteTime": {
     "end_time": "2022-09-09T08:22:26.280276Z",
     "start_time": "2022-09-09T08:22:26.265106Z"
    }
   },
   "source": [
    "---"
   ]
  },
  {
   "cell_type": "code",
   "execution_count": 94,
   "id": "b62c82fd",
   "metadata": {
    "ExecuteTime": {
     "end_time": "2022-09-10T13:27:15.349473Z",
     "start_time": "2022-09-10T13:27:15.345485Z"
    }
   },
   "outputs": [],
   "source": [
    "import copy"
   ]
  },
  {
   "cell_type": "code",
   "execution_count": 95,
   "id": "3bb67572",
   "metadata": {
    "ExecuteTime": {
     "end_time": "2022-09-10T13:28:06.629474Z",
     "start_time": "2022-09-10T13:28:06.623490Z"
    }
   },
   "outputs": [
    {
     "data": {
      "text/plain": [
       "[[], []]"
      ]
     },
     "execution_count": 95,
     "metadata": {},
     "output_type": "execute_result"
    }
   ],
   "source": [
    "# 개미 지도 만들기\n",
    "d = [[] for _ in range(2)]\n",
    "d"
   ]
  },
  {
   "cell_type": "code",
   "execution_count": 96,
   "id": "00135b1b",
   "metadata": {
    "ExecuteTime": {
     "end_time": "2022-09-10T13:28:59.586639Z",
     "start_time": "2022-09-10T13:28:06.807997Z"
    }
   },
   "outputs": [
    {
     "name": "stdout",
     "output_type": "stream",
     "text": [
      "1 1 1 1 1 1 1 1 1 1\n",
      "1 0 0 1 0 0 0 0 0 1\n",
      "1 0 0 1 1 1 0 0 0 1\n",
      "1 0 0 0 0 0 0 1 0 1\n",
      "1 0 0 0 0 0 0 1 0 1\n",
      "1 0 0 0 0 1 0 1 0 1\n",
      "1 0 0 0 0 1 2 1 0 1\n",
      "1 0 0 0 0 1 0 0 0 1\n",
      "1 0 0 0 0 0 0 0 0 1\n",
      "1 1 1 1 1 1 1 1 1 1\n"
     ]
    }
   ],
   "source": [
    "l = 10\n",
    "d = [[] for _ in range(l)]\n",
    "for i in range(l):\n",
    "    d[i]= list(map(int,input().split()))"
   ]
  },
  {
   "cell_type": "code",
   "execution_count": 39,
   "id": "339ba553",
   "metadata": {
    "ExecuteTime": {
     "end_time": "2022-09-09T09:00:33.509037Z",
     "start_time": "2022-09-09T09:00:33.500594Z"
    }
   },
   "outputs": [],
   "source": [
    "1 1 1 1 1 1 1 1 1 1\n",
    "1 0 0 1 0 0 0 0 0 1\n",
    "1 0 0 1 1 1 0 0 0 1\n",
    "1 0 0 0 0 0 0 1 0 1\n",
    "1 0 0 0 0 0 0 1 0 1\n",
    "1 0 0 0 0 1 0 1 0 1\n",
    "1 0 0 0 0 1 2 1 0 1\n",
    "1 0 0 0 0 1 0 0 0 1\n",
    "1 0 0 0 0 0 0 0 0 1\n",
    "1 1 1 1 1 1 1 1 1 1"
   ]
  },
  {
   "cell_type": "code",
   "execution_count": 97,
   "id": "9130412b",
   "metadata": {
    "ExecuteTime": {
     "end_time": "2022-09-10T13:29:02.708560Z",
     "start_time": "2022-09-10T13:29:02.691146Z"
    }
   },
   "outputs": [
    {
     "data": {
      "text/plain": [
       "[[1, 1, 1, 1, 1, 1, 1, 1, 1, 1],\n",
       " [1, 0, 0, 1, 0, 0, 0, 0, 0, 1],\n",
       " [1, 0, 0, 1, 1, 1, 0, 0, 0, 1],\n",
       " [1, 0, 0, 0, 0, 0, 0, 1, 0, 1],\n",
       " [1, 0, 0, 0, 0, 0, 0, 1, 0, 1],\n",
       " [1, 0, 0, 0, 0, 1, 0, 1, 0, 1],\n",
       " [1, 0, 0, 0, 0, 1, 2, 1, 0, 1],\n",
       " [1, 0, 0, 0, 0, 1, 0, 0, 0, 1],\n",
       " [1, 0, 0, 0, 0, 0, 0, 0, 0, 1],\n",
       " [1, 1, 1, 1, 1, 1, 1, 1, 1, 1]]"
      ]
     },
     "execution_count": 97,
     "metadata": {},
     "output_type": "execute_result"
    }
   ],
   "source": [
    "d"
   ]
  },
  {
   "cell_type": "code",
   "execution_count": 98,
   "id": "5cd2e2ce",
   "metadata": {
    "ExecuteTime": {
     "end_time": "2022-09-10T13:29:05.331615Z",
     "start_time": "2022-09-10T13:29:05.312856Z"
    }
   },
   "outputs": [],
   "source": [
    "d1 = copy.deepcopy(d)"
   ]
  },
  {
   "cell_type": "code",
   "execution_count": 99,
   "id": "4886c11e",
   "metadata": {
    "ExecuteTime": {
     "end_time": "2022-09-10T13:29:08.001149Z",
     "start_time": "2022-09-10T13:29:07.982199Z"
    }
   },
   "outputs": [
    {
     "data": {
      "text/plain": [
       "[[1, 1, 1, 1, 1, 1, 1, 1, 1, 1],\n",
       " [1, 0, 0, 1, 0, 0, 0, 0, 0, 1],\n",
       " [1, 0, 0, 1, 1, 1, 0, 0, 0, 1],\n",
       " [1, 0, 0, 0, 0, 0, 0, 1, 0, 1],\n",
       " [1, 0, 0, 0, 0, 0, 0, 1, 0, 1],\n",
       " [1, 0, 0, 0, 0, 1, 0, 1, 0, 1],\n",
       " [1, 0, 0, 0, 0, 1, 2, 1, 0, 1],\n",
       " [1, 0, 0, 0, 0, 1, 0, 0, 0, 1],\n",
       " [1, 0, 0, 0, 0, 0, 0, 0, 0, 1],\n",
       " [1, 1, 1, 1, 1, 1, 1, 1, 1, 1]]"
      ]
     },
     "execution_count": 99,
     "metadata": {},
     "output_type": "execute_result"
    }
   ],
   "source": [
    "d1"
   ]
  },
  {
   "cell_type": "code",
   "execution_count": 85,
   "id": "5ad4be30",
   "metadata": {
    "ExecuteTime": {
     "end_time": "2022-09-10T11:47:10.361804Z",
     "start_time": "2022-09-10T11:47:10.352756Z"
    }
   },
   "outputs": [
    {
     "data": {
      "text/plain": [
       "0"
      ]
     },
     "execution_count": 85,
     "metadata": {},
     "output_type": "execute_result"
    }
   ],
   "source": [
    "# 개미집 (2,2)\n",
    "d[1][1]"
   ]
  },
  {
   "cell_type": "code",
   "execution_count": 100,
   "id": "9727e99a",
   "metadata": {
    "ExecuteTime": {
     "end_time": "2022-09-10T13:29:17.549956Z",
     "start_time": "2022-09-10T13:29:17.541976Z"
    }
   },
   "outputs": [
    {
     "ename": "SyntaxError",
     "evalue": "invalid syntax (Temp/ipykernel_4304/4119840250.py, line 9)",
     "output_type": "error",
     "traceback": [
      "\u001b[1;36m  File \u001b[1;32m\"C:\\Users\\21ckw\\AppData\\Local\\Temp/ipykernel_4304/4119840250.py\"\u001b[1;36m, line \u001b[1;32m9\u001b[0m\n\u001b[1;33m    elif:\u001b[0m\n\u001b[1;37m        ^\u001b[0m\n\u001b[1;31mSyntaxError\u001b[0m\u001b[1;31m:\u001b[0m invalid syntax\n"
     ]
    }
   ],
   "source": [
    "# 개미집으로부터 오른쪽이동\n",
    "x=2\n",
    "y=2\n",
    "while (x<9) | (y<9): \n",
    "    # 오른쪽 한칸이동 시 0,1,2 경우 나눔\n",
    "    if d1[x-1][y-1+1]==0:\n",
    "        d1[x-1][y-1]=9\n",
    "        y+=1\n",
    "    elif d1[x-1][y-1+1]==1:\n",
    "        d1[x-1][y-1]=9\n",
    "        x+=1\n",
    "    else:\n",
    "        d1[x-1][y-1]=9\n",
    "        break\n",
    "        \n",
    "    "
   ]
  },
  {
   "cell_type": "code",
   "execution_count": 87,
   "id": "22f708dc",
   "metadata": {
    "ExecuteTime": {
     "end_time": "2022-09-10T11:47:15.929415Z",
     "start_time": "2022-09-10T11:47:15.908607Z"
    }
   },
   "outputs": [
    {
     "data": {
      "text/plain": [
       "[[1, 1, 1, 1, 1, 1, 1, 1, 1, 1],\n",
       " [1, 9, 9, 1, 0, 0, 0, 0, 0, 1],\n",
       " [1, 0, 9, 1, 1, 1, 0, 0, 0, 1],\n",
       " [1, 0, 9, 9, 9, 9, 9, 1, 0, 1],\n",
       " [1, 0, 0, 0, 0, 0, 9, 1, 0, 1],\n",
       " [1, 0, 0, 0, 0, 1, 9, 1, 0, 1],\n",
       " [1, 0, 0, 0, 0, 1, 9, 1, 0, 1],\n",
       " [1, 0, 0, 0, 0, 1, 9, 9, 9, 1],\n",
       " [1, 0, 0, 0, 0, 0, 0, 0, 0, 1],\n",
       " [1, 1, 1, 1, 1, 1, 1, 1, 1, 1]]"
      ]
     },
     "execution_count": 87,
     "metadata": {},
     "output_type": "execute_result"
    }
   ],
   "source": [
    "d1"
   ]
  },
  {
   "cell_type": "code",
   "execution_count": 91,
   "id": "fa60672d",
   "metadata": {
    "ExecuteTime": {
     "end_time": "2022-09-10T13:05:51.760704Z",
     "start_time": "2022-09-10T13:05:51.739005Z"
    }
   },
   "outputs": [
    {
     "data": {
      "text/plain": [
       "[[1, 1, 1, 1, 1, 1, 1, 1, 1, 1],\n",
       " [1, 9, 9, 1, 0, 0, 0, 0, 0, 1],\n",
       " [1, 0, 9, 1, 1, 1, 0, 0, 0, 1],\n",
       " [1, 0, 9, 9, 9, 9, 9, 1, 0, 1],\n",
       " [1, 0, 0, 0, 0, 0, 9, 1, 0, 1],\n",
       " [1, 0, 0, 0, 0, 1, 9, 1, 0, 1],\n",
       " [1, 0, 0, 0, 0, 1, 9, 1, 0, 1],\n",
       " [1, 0, 0, 0, 0, 1, 9, 9, 9, 1],\n",
       " [1, 0, 0, 0, 0, 0, 0, 0, 0, 1],\n",
       " [1, 1, 1, 1, 1, 1, 1, 1, 1, 1]]"
      ]
     },
     "execution_count": 91,
     "metadata": {},
     "output_type": "execute_result"
    }
   ],
   "source": [
    "d"
   ]
  },
  {
   "cell_type": "code",
   "execution_count": 92,
   "id": "f333f05e",
   "metadata": {
    "ExecuteTime": {
     "end_time": "2022-09-10T13:06:14.771680Z",
     "start_time": "2022-09-10T13:06:14.751768Z"
    }
   },
   "outputs": [
    {
     "data": {
      "text/plain": [
       "9"
      ]
     },
     "execution_count": 92,
     "metadata": {},
     "output_type": "execute_result"
    }
   ],
   "source": [
    "x"
   ]
  },
  {
   "cell_type": "code",
   "execution_count": 93,
   "id": "ab9cfd79",
   "metadata": {
    "ExecuteTime": {
     "end_time": "2022-09-10T13:06:15.020196Z",
     "start_time": "2022-09-10T13:06:15.015399Z"
    }
   },
   "outputs": [
    {
     "data": {
      "text/plain": [
       "9"
      ]
     },
     "execution_count": 93,
     "metadata": {},
     "output_type": "execute_result"
    }
   ],
   "source": [
    "y"
   ]
  },
  {
   "cell_type": "markdown",
   "id": "1239fdef",
   "metadata": {},
   "source": [
    "## 논리 직접 써보기"
   ]
  },
  {
   "cell_type": "markdown",
   "id": "553e561d",
   "metadata": {},
   "source": [
    "* if 오른쪽 0 -> 오른쪽 이동 , 원래자리9 <br>\n",
    "\n",
    "* if 오른쪽 1 -> 밑으로 이동 밑으로이동한곳이 2이면<br>\n",
    "\n",
    "* if 오른쪽 2 -> 이동만 시키고 break"
   ]
  },
  {
   "cell_type": "code",
   "execution_count": 101,
   "id": "c909787d",
   "metadata": {
    "ExecuteTime": {
     "end_time": "2022-09-10T13:48:51.489002Z",
     "start_time": "2022-09-10T13:48:51.474389Z"
    }
   },
   "outputs": [
    {
     "data": {
      "text/plain": [
       "[[1, 1, 1, 1, 1, 1, 1, 1, 1, 1],\n",
       " [1, 0, 0, 1, 0, 0, 0, 0, 0, 1],\n",
       " [1, 0, 0, 1, 1, 1, 0, 0, 0, 1],\n",
       " [1, 0, 0, 0, 0, 0, 0, 1, 0, 1],\n",
       " [1, 0, 0, 0, 0, 0, 0, 1, 0, 1],\n",
       " [1, 0, 0, 0, 0, 1, 0, 1, 0, 1],\n",
       " [1, 0, 0, 0, 0, 1, 2, 1, 0, 1],\n",
       " [1, 0, 0, 0, 0, 1, 0, 0, 0, 1],\n",
       " [1, 0, 0, 0, 0, 0, 0, 0, 0, 1],\n",
       " [1, 1, 1, 1, 1, 1, 1, 1, 1, 1]]"
      ]
     },
     "execution_count": 101,
     "metadata": {},
     "output_type": "execute_result"
    }
   ],
   "source": [
    "d1"
   ]
  },
  {
   "cell_type": "code",
   "execution_count": null,
   "id": "c9a2399f",
   "metadata": {},
   "outputs": [],
   "source": [
    "# 개미집으로부터 오른쪽이동\n",
    "x=2\n",
    "y=2\n",
    "while (x<9) | (y<9):\n",
    "    # 처음 시작점\n",
    "    d[x-1][x-2]=9\n",
    "    \n",
    "    # 오른쪽 한칸이동 시 0,1,2 경우 나눔\n",
    "    if d1[x-1][y-1+1]==0: # 오른쪽이 0이면\n",
    "        d1[x-1][y-1+1]==9 # 오른쪽자리에 9 \n",
    "        y+=1  # 오른쪽 이동\n",
    "    elif: d1[x-1][y-1+1]==1:\n",
    "        d1[x-1][y-1+1]==9 # 오른쪽자리에 9 \n",
    "        d1[x-1][y-1]=9\n",
    "        x+=1\n",
    "  \n",
    "    else: # 옆칸이 2이면\n",
    "        d1[x-1][y-1]=9 # 원래자리\n",
    "        d1[x-1][y-1+1]=9 # 오른쪽\n",
    "        break"
   ]
  },
  {
   "cell_type": "code",
   "execution_count": null,
   "id": "5a3cb83f",
   "metadata": {},
   "outputs": [],
   "source": []
  }
 ],
 "metadata": {
  "kernelspec": {
   "display_name": "Python 3 (ipykernel)",
   "language": "python",
   "name": "python3"
  },
  "language_info": {
   "codemirror_mode": {
    "name": "ipython",
    "version": 3
   },
   "file_extension": ".py",
   "mimetype": "text/x-python",
   "name": "python",
   "nbconvert_exporter": "python",
   "pygments_lexer": "ipython3",
   "version": "3.9.7"
  },
  "toc": {
   "base_numbering": 1,
   "nav_menu": {},
   "number_sections": true,
   "sideBar": true,
   "skip_h1_title": false,
   "title_cell": "Table of Contents",
   "title_sidebar": "Contents",
   "toc_cell": false,
   "toc_position": {},
   "toc_section_display": true,
   "toc_window_display": true
  },
  "varInspector": {
   "cols": {
    "lenName": 16,
    "lenType": 16,
    "lenVar": 40
   },
   "kernels_config": {
    "python": {
     "delete_cmd_postfix": "",
     "delete_cmd_prefix": "del ",
     "library": "var_list.py",
     "varRefreshCmd": "print(var_dic_list())"
    },
    "r": {
     "delete_cmd_postfix": ") ",
     "delete_cmd_prefix": "rm(",
     "library": "var_list.r",
     "varRefreshCmd": "cat(var_dic_list()) "
    }
   },
   "types_to_exclude": [
    "module",
    "function",
    "builtin_function_or_method",
    "instance",
    "_Feature"
   ],
   "window_display": false
  }
 },
 "nbformat": 4,
 "nbformat_minor": 5
}
