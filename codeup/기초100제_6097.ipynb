{
 "cells": [
  {
   "cell_type": "markdown",
   "id": "b43d3115",
   "metadata": {},
   "source": [
    "# 6097번"
   ]
  },
  {
   "cell_type": "markdown",
   "id": "e0c9f4c9",
   "metadata": {},
   "source": [
    "격자판의 세로(h), 가로(w), 막대의 개수(n), 각 막대의 길이(l),\n",
    "막대를 놓는 방향(d:가로는 0, 세로는 1)과\n",
    "막대를 놓는 막대의 가장 왼쪽 또는 위쪽의 위치(x, y)가 주어질 때,\n",
    "\n",
    "격자판을 채운 막대의 모양을 출력하는 프로그램을 만들어보자."
   ]
  },
  {
   "cell_type": "markdown",
   "id": "88c46f6f",
   "metadata": {},
   "source": [
    "* input\n",
    "\n",
    "첫 줄에 격자판의 세로(h), 가로(w) 가 공백을 두고 입력되고,<br>\n",
    "두 번째 줄에 놓을 수 있는 막대의 개수(n)<br>\n",
    "세 번째 줄부터 각 막대의 길이(l), 방향(d), 좌표(x, y)가 입력된다.<br>\n",
    "   \n",
    "1 <= w, h <= 100\n",
    "1 <= n <= 10<br>\n",
    "d = 0 or 1<br>\n",
    "1 <= x <= 100-h<br>\n",
    "1 <= y <= 100-w\n",
    "\n",
    "* output\n",
    "\n",
    "모든 막대를 놓은 격자판의 상태를 출력한다.\n",
    "막대에 의해 가려진 경우 1, 아닌 경우 0으로 출력한다.\n",
    "단, 각 숫자는 공백으로 구분하여 출력한다."
   ]
  },
  {
   "cell_type": "code",
   "execution_count": 21,
   "id": "0db69479",
   "metadata": {
    "ExecuteTime": {
     "end_time": "2022-09-09T06:51:24.234867Z",
     "start_time": "2022-09-09T06:51:24.216535Z"
    }
   },
   "outputs": [],
   "source": [
    "# 시도"
   ]
  },
  {
   "cell_type": "code",
   "execution_count": 19,
   "id": "9e74af9b",
   "metadata": {
    "ExecuteTime": {
     "end_time": "2022-09-09T06:51:11.469600Z",
     "start_time": "2022-09-09T06:51:11.461621Z"
    }
   },
   "outputs": [],
   "source": [
    "h = 2\n",
    "w = 3\n",
    "\n",
    "g= []"
   ]
  },
  {
   "cell_type": "code",
   "execution_count": 20,
   "id": "a830921a",
   "metadata": {
    "ExecuteTime": {
     "end_time": "2022-09-09T06:51:12.016356Z",
     "start_time": "2022-09-09T06:51:11.997911Z"
    }
   },
   "outputs": [],
   "source": [
    "for i in range(h):\n",
    "    g.append([])\n",
    "    for j in range(w):\n",
    "        g[i].append(0)"
   ]
  },
  {
   "cell_type": "code",
   "execution_count": 22,
   "id": "f00bc90c",
   "metadata": {
    "ExecuteTime": {
     "end_time": "2022-09-09T06:51:30.010083Z",
     "start_time": "2022-09-09T06:51:29.989599Z"
    }
   },
   "outputs": [
    {
     "data": {
      "text/plain": [
       "[[0, 0, 0], [0, 0, 0]]"
      ]
     },
     "execution_count": 22,
     "metadata": {},
     "output_type": "execute_result"
    }
   ],
   "source": [
    "g"
   ]
  },
  {
   "cell_type": "code",
   "execution_count": null,
   "id": "b9144712",
   "metadata": {},
   "outputs": [],
   "source": [
    "# 막대개수\n",
    "# n = int(input())\n",
    "n=1"
   ]
  },
  {
   "cell_type": "code",
   "execution_count": 23,
   "id": "5fc41018",
   "metadata": {
    "ExecuteTime": {
     "end_time": "2022-09-09T07:01:56.372673Z",
     "start_time": "2022-09-09T07:01:39.055315Z"
    }
   },
   "outputs": [
    {
     "name": "stdout",
     "output_type": "stream",
     "text": [
      "2 0 1 1\n"
     ]
    }
   ],
   "source": [
    "# 막대길이 l, d 가로(0) or 세로(1), x,y 위치\n",
    "l,d,x,y = map(int,input().split())"
   ]
  },
  {
   "cell_type": "code",
   "execution_count": 25,
   "id": "8f35c630",
   "metadata": {
    "ExecuteTime": {
     "end_time": "2022-09-09T07:04:47.470977Z",
     "start_time": "2022-09-09T07:04:47.452135Z"
    }
   },
   "outputs": [
    {
     "data": {
      "text/plain": [
       "[[1, 1, 0], [1, 0, 0]]"
      ]
     },
     "execution_count": 25,
     "metadata": {},
     "output_type": "execute_result"
    }
   ],
   "source": [
    "if d == 0:\n",
    "    for i in range(l):\n",
    "        g[x-1+i][y-1]=1\n",
    "        \n",
    "else:\n",
    "    for i in range(l):\n",
    "        g[x-1][y-1+i]=1\n",
    "g"
   ]
  },
  {
   "cell_type": "code",
   "execution_count": null,
   "id": "5adffa91",
   "metadata": {},
   "outputs": [],
   "source": []
  },
  {
   "cell_type": "markdown",
   "id": "449be5c0",
   "metadata": {},
   "source": [
    "# 완성코드"
   ]
  },
  {
   "cell_type": "code",
   "execution_count": 30,
   "id": "9c3aec1f",
   "metadata": {
    "ExecuteTime": {
     "end_time": "2022-09-09T08:08:26.378944Z",
     "start_time": "2022-09-09T08:08:16.536228Z"
    }
   },
   "outputs": [
    {
     "name": "stdout",
     "output_type": "stream",
     "text": [
      "5 5\n",
      "1\n",
      "4 1 2 5\n",
      "0 0 0 0 0 \n",
      "0 0 0 0 1 \n",
      "0 0 0 0 1 \n",
      "0 0 0 0 1 \n",
      "0 0 0 0 1 \n"
     ]
    }
   ],
   "source": [
    "h,w = map(int,input().split())\n",
    "\n",
    "# 빈판 만들기\n",
    "g=[]\n",
    "for i in range(h):\n",
    "    g.append([])\n",
    "    for j in range(w):\n",
    "        g[i].append(0)\n",
    "        \n",
    "# 막대개수\n",
    "N = int(input())\n",
    "\n",
    "for n in range(N):  \n",
    "    \n",
    "    # 막대길이 l, d 가로(0) or 세로(1), x,y 위치\n",
    "    l,d,x,y = map(int,input().split())\n",
    "\n",
    "    if d == 0: # 가로(y)\n",
    "        for i in range(l):\n",
    "            g[x-1][y-1+i]=1\n",
    "\n",
    "    else: # x(세로)\n",
    "        for i in range(l):\n",
    "            g[x-1+i][y-1]=1\n",
    "            \n",
    "for i in range(h):\n",
    "    for j in range(w):\n",
    "        print(g[i][j],end=' ')\n",
    "    print()"
   ]
  },
  {
   "cell_type": "code",
   "execution_count": null,
   "id": "0f03eb20",
   "metadata": {},
   "outputs": [],
   "source": []
  },
  {
   "cell_type": "code",
   "execution_count": null,
   "id": "d085a051",
   "metadata": {},
   "outputs": [],
   "source": []
  }
 ],
 "metadata": {
  "kernelspec": {
   "display_name": "Python 3 (ipykernel)",
   "language": "python",
   "name": "python3"
  },
  "language_info": {
   "codemirror_mode": {
    "name": "ipython",
    "version": 3
   },
   "file_extension": ".py",
   "mimetype": "text/x-python",
   "name": "python",
   "nbconvert_exporter": "python",
   "pygments_lexer": "ipython3",
   "version": "3.9.7"
  },
  "toc": {
   "base_numbering": 1,
   "nav_menu": {},
   "number_sections": true,
   "sideBar": true,
   "skip_h1_title": false,
   "title_cell": "Table of Contents",
   "title_sidebar": "Contents",
   "toc_cell": false,
   "toc_position": {},
   "toc_section_display": true,
   "toc_window_display": false
  },
  "varInspector": {
   "cols": {
    "lenName": 16,
    "lenType": 16,
    "lenVar": 40
   },
   "kernels_config": {
    "python": {
     "delete_cmd_postfix": "",
     "delete_cmd_prefix": "del ",
     "library": "var_list.py",
     "varRefreshCmd": "print(var_dic_list())"
    },
    "r": {
     "delete_cmd_postfix": ") ",
     "delete_cmd_prefix": "rm(",
     "library": "var_list.r",
     "varRefreshCmd": "cat(var_dic_list()) "
    }
   },
   "types_to_exclude": [
    "module",
    "function",
    "builtin_function_or_method",
    "instance",
    "_Feature"
   ],
   "window_display": false
  }
 },
 "nbformat": 4,
 "nbformat_minor": 5
}
