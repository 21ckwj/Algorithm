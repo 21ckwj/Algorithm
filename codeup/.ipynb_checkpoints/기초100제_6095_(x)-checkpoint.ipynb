{
 "cells": [
  {
   "cell_type": "markdown",
   "id": "a925d812",
   "metadata": {},
   "source": [
    "# 6095번"
   ]
  },
  {
   "cell_type": "markdown",
   "id": "a3af217b",
   "metadata": {
    "ExecuteTime": {
     "end_time": "2022-09-06T14:29:52.623368Z",
     "start_time": "2022-09-06T14:29:52.604962Z"
    }
   },
   "source": [
    "바둑판(19 * 19)에 n개의 흰 돌을 놓는다고 할 때,\n",
    "n개의 흰 돌이 놓인 위치를 출력하는 프로그램을 작성해보자\n",
    "\n",
    "*입력<br>\n",
    "바둑판에 올려 놓을 흰 돌의 개수(n)가 첫 줄에 입력된다.\n",
    "둘째 줄 부터 n+1 번째 줄까지 힌 돌을 놓을 좌표(x, y)가 n줄 입력된다.\n",
    "n은 10이하의 자연수이고 x, y 좌표는 1 ~ 19 까지이며, 똑같은 좌표는 입력되지 않는다. \n",
    "\n",
    "*출력<br>\n",
    "흰 돌이 올려진 바둑판의 상황을 출력한다.\n",
    "흰 돌이 있는 위치는 1, 없는 곳은 0으로 출력한다."
   ]
  },
  {
   "cell_type": "code",
   "execution_count": null,
   "id": "92a93ecd",
   "metadata": {},
   "outputs": [],
   "source": []
  },
  {
   "cell_type": "code",
   "execution_count": null,
   "id": "4afe16de",
   "metadata": {},
   "outputs": [],
   "source": []
  }
 ],
 "metadata": {
  "kernelspec": {
   "display_name": "Python 3 (ipykernel)",
   "language": "python",
   "name": "python3"
  },
  "language_info": {
   "codemirror_mode": {
    "name": "ipython",
    "version": 3
   },
   "file_extension": ".py",
   "mimetype": "text/x-python",
   "name": "python",
   "nbconvert_exporter": "python",
   "pygments_lexer": "ipython3",
   "version": "3.9.7"
  },
  "toc": {
   "base_numbering": 1,
   "nav_menu": {},
   "number_sections": true,
   "sideBar": true,
   "skip_h1_title": false,
   "title_cell": "Table of Contents",
   "title_sidebar": "Contents",
   "toc_cell": false,
   "toc_position": {},
   "toc_section_display": true,
   "toc_window_display": false
  },
  "varInspector": {
   "cols": {
    "lenName": 16,
    "lenType": 16,
    "lenVar": 40
   },
   "kernels_config": {
    "python": {
     "delete_cmd_postfix": "",
     "delete_cmd_prefix": "del ",
     "library": "var_list.py",
     "varRefreshCmd": "print(var_dic_list())"
    },
    "r": {
     "delete_cmd_postfix": ") ",
     "delete_cmd_prefix": "rm(",
     "library": "var_list.r",
     "varRefreshCmd": "cat(var_dic_list()) "
    }
   },
   "types_to_exclude": [
    "module",
    "function",
    "builtin_function_or_method",
    "instance",
    "_Feature"
   ],
   "window_display": false
  }
 },
 "nbformat": 4,
 "nbformat_minor": 5
}
