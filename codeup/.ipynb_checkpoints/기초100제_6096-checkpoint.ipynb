{
 "cells": [
  {
   "cell_type": "markdown",
   "id": "d998ce7c",
   "metadata": {},
   "source": [
    "# 6096번"
   ]
  },
  {
   "cell_type": "markdown",
   "id": "0e095ee2",
   "metadata": {
    "ExecuteTime": {
     "end_time": "2022-09-06T14:34:37.854301Z",
     "start_time": "2022-09-06T14:34:37.846322Z"
    }
   },
   "source": [
    "십자 뒤집기는\n",
    "그 위치에 있는 모든 가로줄 돌의 색을 반대(1->0, 0->1)로 바꾼 후, \n",
    "다시 그 위치에 있는 모든 세로줄 돌의 색을 반대로 바꾸는 것이다.\n",
    "어떤 위치를 골라 집자 뒤집기를 하면, 그 위치를 제외한 가로줄과 세로줄의 색이 모두 반대로 바뀐다.\n",
    "\n",
    "바둑판(19 * 19)에 흰 돌(1) 또는 검정 돌(0)이 모두 꽉 채워져 놓여있을 때,\n",
    "n개의 좌표를 입력받아 십(+)자 뒤집기한 결과를 출력하는 프로그램을 작성해보자.\n",
    "\n",
    "*입력<br>\n",
    "바둑알이 깔려 있는 상황이 19 * 19 크기의 정수값으로 입력된다.\n",
    "십자 뒤집기 횟수(n)가 입력된다.\n",
    "십자 뒤집기 좌표가 횟수(n) 만큼 입력된다. 단, n은 10이하의 자연수이다.\n",
    "\n",
    "*출력<br>\n",
    "십자 뒤집기 결과를 출력한다.\n"
   ]
  },
  {
   "cell_type": "code",
   "execution_count": 3,
   "id": "5d78659f",
   "metadata": {
    "ExecuteTime": {
     "end_time": "2022-09-06T14:35:54.289983Z",
     "start_time": "2022-09-06T14:35:54.281135Z"
    }
   },
   "outputs": [],
   "source": [
    "#input\n",
    "\n",
    "# 0 0 0 0 0 0 0 0 0 1 0 1 0 0 0 0 0 0 0\n",
    "# 0 0 0 0 0 0 0 0 0 1 0 1 0 0 0 0 0 0 0\n",
    "# 0 0 0 0 0 0 0 0 0 1 0 1 0 0 0 0 0 0 0\n",
    "# 0 0 0 0 0 0 0 0 0 1 0 1 0 0 0 0 0 0 0\n",
    "# 0 0 0 0 0 0 0 0 0 1 0 1 0 0 0 0 0 0 0\n",
    "# 0 0 0 0 0 0 0 0 0 1 0 1 0 0 0 0 0 0 0\n",
    "# 0 0 0 0 0 0 0 0 0 1 0 1 0 0 0 0 0 0 0\n",
    "# 0 0 0 0 0 0 0 0 0 1 0 1 0 0 0 0 0 0 0\n",
    "# 0 0 0 0 0 0 0 0 0 1 0 1 0 0 0 0 0 0 0\n",
    "# 1 1 1 1 1 1 1 1 1 1 1 1 1 1 1 1 1 1 1\n",
    "# 0 0 0 0 0 0 0 0 0 1 0 1 0 0 0 0 0 0 0\n",
    "# 1 1 1 1 1 1 1 1 1 1 1 1 1 1 1 1 1 1 1\n",
    "# 0 0 0 0 0 0 0 0 0 1 0 1 0 0 0 0 0 0 0\n",
    "# 0 0 0 0 0 0 0 0 0 1 0 1 0 0 0 0 0 0 0\n",
    "# 0 0 0 0 0 0 0 0 0 1 0 1 0 0 0 0 0 0 0\n",
    "# 0 0 0 0 0 0 0 0 0 1 0 1 0 0 0 0 0 0 0\n",
    "# 0 0 0 0 0 0 0 0 0 1 0 1 0 0 0 0 0 0 0\n",
    "# 0 0 0 0 0 0 0 0 0 1 0 1 0 0 0 0 0 0 0\n",
    "# 0 0 0 0 0 0 0 0 0 1 0 1 0 0 0 0 0 0 0\n",
    "# 2\n",
    "# 10 10\n",
    "# 12 12"
   ]
  },
  {
   "cell_type": "code",
   "execution_count": null,
   "id": "e9ca3b3d",
   "metadata": {},
   "outputs": [],
   "source": [
    "0 0 0 0 0 0 0 0 0 1 0 1 0 0 0 0 0 0 0\n",
    "0 0 0 0 0 0 0 0 0 1 0 1 0 0 0 0 0 0 0\n",
    "0 0 0 0 0 0 0 0 0 1 0 1 0 0 0 0 0 0 0\n",
    "0 0 0 0 0 0 0 0 0 1 0 1 0 0 0 0 0 0 0\n",
    "0 0 0 0 0 0 0 0 0 1 0 1 0 0 0 0 0 0 0\n",
    "0 0 0 0 0 0 0 0 0 1 0 1 0 0 0 0 0 0 0\n",
    "0 0 0 0 0 0 0 0 0 1 0 1 0 0 0 0 0 0 0\n",
    "0 0 0 0 0 0 0 0 0 1 0 1 0 0 0 0 0 0 0\n",
    "0 0 0 0 0 0 0 0 0 1 0 1 0 0 0 0 0 0 0\n",
    "1 1 1 1 1 1 1 1 1 1 1 1 1 1 1 1 1 1 1\n",
    "0 0 0 0 0 0 0 0 0 1 0 1 0 0 0 0 0 0 0\n",
    "1 1 1 1 1 1 1 1 1 1 1 1 1 1 1 1 1 1 1\n",
    "0 0 0 0 0 0 0 0 0 1 0 1 0 0 0 0 0 0 0\n",
    "0 0 0 0 0 0 0 0 0 1 0 1 0 0 0 0 0 0 0\n",
    "0 0 0 0 0 0 0 0 0 1 0 1 0 0 0 0 0 0 0\n",
    "0 0 0 0 0 0 0 0 0 1 0 1 0 0 0 0 0 0 0\n",
    "0 0 0 0 0 0 0 0 0 1 0 1 0 0 0 0 0 0 0\n",
    "0 0 0 0 0 0 0 0 0 1 0 1 0 0 0 0 0 0 0\n",
    "0 0 0 0 0 0 0 0 0 1 0 1 0 0 0 0 0 0 0"
   ]
  },
  {
   "cell_type": "code",
   "execution_count": 4,
   "id": "60dd79a6",
   "metadata": {
    "ExecuteTime": {
     "end_time": "2022-09-06T14:36:08.718566Z",
     "start_time": "2022-09-06T14:36:08.710624Z"
    }
   },
   "outputs": [],
   "source": [
    "# output\n",
    "\n",
    "# 0 0 0 0 0 0 0 0 0 0 0 0 0 0 0 0 0 0 0\n",
    "# 0 0 0 0 0 0 0 0 0 0 0 0 0 0 0 0 0 0 0\n",
    "# 0 0 0 0 0 0 0 0 0 0 0 0 0 0 0 0 0 0 0\n",
    "# 0 0 0 0 0 0 0 0 0 0 0 0 0 0 0 0 0 0 0\n",
    "# 0 0 0 0 0 0 0 0 0 0 0 0 0 0 0 0 0 0 0\n",
    "# 0 0 0 0 0 0 0 0 0 0 0 0 0 0 0 0 0 0 0\n",
    "# 0 0 0 0 0 0 0 0 0 0 0 0 0 0 0 0 0 0 0\n",
    "# 0 0 0 0 0 0 0 0 0 0 0 0 0 0 0 0 0 0 0\n",
    "# 0 0 0 0 0 0 0 0 0 0 0 0 0 0 0 0 0 0 0\n",
    "# 0 0 0 0 0 0 0 0 0 1 0 1 0 0 0 0 0 0 0\n",
    "# 0 0 0 0 0 0 0 0 0 0 0 0 0 0 0 0 0 0 0\n",
    "# 0 0 0 0 0 0 0 0 0 1 0 1 0 0 0 0 0 0 0\n",
    "# 0 0 0 0 0 0 0 0 0 0 0 0 0 0 0 0 0 0 0\n",
    "# 0 0 0 0 0 0 0 0 0 0 0 0 0 0 0 0 0 0 0\n",
    "# 0 0 0 0 0 0 0 0 0 0 0 0 0 0 0 0 0 0 0\n",
    "# 0 0 0 0 0 0 0 0 0 0 0 0 0 0 0 0 0 0 0\n",
    "# 0 0 0 0 0 0 0 0 0 0 0 0 0 0 0 0 0 0 0\n",
    "# 0 0 0 0 0 0 0 0 0 0 0 0 0 0 0 0 0 0 0\n",
    "# 0 0 0 0 0 0 0 0 0 0 0 0 0 0 0 0 0 0 0"
   ]
  },
  {
   "cell_type": "code",
   "execution_count": null,
   "id": "fe335789",
   "metadata": {},
   "outputs": [],
   "source": []
  },
  {
   "cell_type": "code",
   "execution_count": 6,
   "id": "f95b6ab4",
   "metadata": {
    "ExecuteTime": {
     "end_time": "2022-09-06T14:52:11.026624Z",
     "start_time": "2022-09-06T14:52:09.073469Z"
    }
   },
   "outputs": [
    {
     "name": "stdout",
     "output_type": "stream",
     "text": [
      "0 0 0 0 0 0 0 0 0 1 0 1 0 0 0 0 0 0 0 0 0 0 0 0 0 0 0 0 1 0 1 0 0 0 0 0 0 0 0 0 0 0 0 0 0 0 0 1 0 1 0 0 0 0 0 0 0 0 0 0 0 0 0 0 0 0 1 0 1 0 0 0 0 0 0 0 0 0 0 0 0 0 0 0 0 1 0 1 0 0 0 0 0 0 0 0 0 0 0 0 0 0 0 0 1 0 1 0 0 0 0 0 0 0 0 0 0 0 0 0 0 0 0 1 0 1 0 0 0 0 0 0 0 0 0 0 0 0 0 0 0 0 1 0 1 0 0 0 0 0 0 0 0 0 0 0 0 0 0 0 0 1 0 1 0 0 0 0 0 0 0 1 1 1 1 1 1 1 1 1 1 1 1 1 1 1 1 1 1 1 0 0 0 0 0 0 0 0 0 1 0 1 0 0 0 0 0 0 0 1 1 1 1 1 1 1 1 1 1 1 1 1 1 1 1 1 1 1 0 0 0 0 0 0 0 0 0 1 0 1 0 0 0 0 0 0 0 0 0 0 0 0 0 0 0 0 1 0 1 0 0 0 0 0 0 0 0 0 0 0 0 0 0 0 0 1 0 1 0 0 0 0 0 0 0 0 0 0 0 0 0 0 0 0 1 0 1 0 0 0 0 0 0 0 0 0 0 0 0 0 0 0 0 1 0 1 0 0 0 0 0 0 0 0 0 0 0 0 0 0 0 0 1 0 1 0 0 0 0 0 0 0 0 0 0 0 0 0 0 0 0 1 0 1 0 0 0 0 0 0 0\n"
     ]
    }
   ],
   "source": [
    "nums = input()"
   ]
  },
  {
   "cell_type": "code",
   "execution_count": null,
   "id": "c5b1a3b0",
   "metadata": {},
   "outputs": [],
   "source": [
    "x = []\n",
    "y = []\n",
    "for i in "
   ]
  },
  {
   "cell_type": "code",
   "execution_count": null,
   "id": "8293053c",
   "metadata": {},
   "outputs": [],
   "source": []
  },
  {
   "cell_type": "code",
   "execution_count": null,
   "id": "7cb1de62",
   "metadata": {},
   "outputs": [],
   "source": [
    "for i in range(1,20):\n",
    "    \n",
    "    "
   ]
  },
  {
   "cell_type": "code",
   "execution_count": null,
   "id": "852751bf",
   "metadata": {},
   "outputs": [],
   "source": []
  }
 ],
 "metadata": {
  "kernelspec": {
   "display_name": "Python 3 (ipykernel)",
   "language": "python",
   "name": "python3"
  },
  "language_info": {
   "codemirror_mode": {
    "name": "ipython",
    "version": 3
   },
   "file_extension": ".py",
   "mimetype": "text/x-python",
   "name": "python",
   "nbconvert_exporter": "python",
   "pygments_lexer": "ipython3",
   "version": "3.9.7"
  },
  "toc": {
   "base_numbering": 1,
   "nav_menu": {},
   "number_sections": true,
   "sideBar": true,
   "skip_h1_title": false,
   "title_cell": "Table of Contents",
   "title_sidebar": "Contents",
   "toc_cell": false,
   "toc_position": {},
   "toc_section_display": true,
   "toc_window_display": false
  },
  "varInspector": {
   "cols": {
    "lenName": 16,
    "lenType": 16,
    "lenVar": 40
   },
   "kernels_config": {
    "python": {
     "delete_cmd_postfix": "",
     "delete_cmd_prefix": "del ",
     "library": "var_list.py",
     "varRefreshCmd": "print(var_dic_list())"
    },
    "r": {
     "delete_cmd_postfix": ") ",
     "delete_cmd_prefix": "rm(",
     "library": "var_list.r",
     "varRefreshCmd": "cat(var_dic_list()) "
    }
   },
   "types_to_exclude": [
    "module",
    "function",
    "builtin_function_or_method",
    "instance",
    "_Feature"
   ],
   "window_display": false
  }
 },
 "nbformat": 4,
 "nbformat_minor": 5
}
