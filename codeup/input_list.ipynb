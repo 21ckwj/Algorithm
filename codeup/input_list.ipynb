{
 "cells": [
  {
   "cell_type": "markdown",
   "metadata": {},
   "source": [
    "### Q.사용자로부터 입력 받은 모든 정수의 합을 리턴해주는 프로그램 작성을 작성하시오.\n"
   ]
  },
  {
   "cell_type": "markdown",
   "metadata": {},
   "source": [
    "#### *problem* : 입력 받을 정수의 개수가 정해지지 않아 하나만의 변수를 받는 input 함수를 쓰기가 어려웠음"
   ]
  },
  {
   "cell_type": "markdown",
   "metadata": {},
   "source": [
    ">solution : input으로 데이터를 받아 append함수를 통해 리스트에 데이터 넣기"
   ]
  },
  {
   "cell_type": "code",
   "execution_count": 3,
   "metadata": {},
   "outputs": [
    {
     "name": "stdout",
     "output_type": "stream",
     "text": [
      "30\n"
     ]
    }
   ],
   "source": [
    "# Q. 사용자로부터 입력받은 모든 정수의 합을 구하시오. 단 숫자 입력을 끝낼 시 0을 입력(input함수에 0 입력 시 함수 종료)\n",
    "\n",
    "list = []       # 비어있는 리스트를 만든다 \n",
    "num = None      \n",
    "sum = 0\n",
    "\n",
    "while num != 0:                                         # 조건문: 입력받는 숫자가 0이 아니라면 계속 입력받는다\n",
    "    num = int(input(\"숫자를 입력해주세요: \"))\n",
    "    list.append(num)                                    # 입력받은 데이터를 계속 리스트에 추가\n",
    "    \n",
    "    if num == 0 :                                       # 0을 입력하면 숫자 입력 종료\n",
    "        break\n",
    "\n",
    "for i in range(len(list)):                              #for문을 통해 리스트 값들의 합을 구함\n",
    "    sum += list[i]    \n",
    "print(sum)  \n",
    "  "
   ]
  },
  {
   "cell_type": "markdown",
   "metadata": {},
   "source": [
    "#### 데이터 입력받는 방법을 바꾸기"
   ]
  },
  {
   "cell_type": "markdown",
   "metadata": {},
   "source": [
    "> solution1 : 매개변수 사용 (input 함수 대신 직접 함수에 입력)\n",
    "            \n"
   ]
  },
  {
   "cell_type": "code",
   "execution_count": 2,
   "metadata": {},
   "outputs": [
    {
     "data": {
      "text/plain": [
       "60"
      ]
     },
     "execution_count": 2,
     "metadata": {},
     "output_type": "execute_result"
    }
   ],
   "source": [
    "# 함수에 직접 더할 값들을 넣어주면 된다.\n",
    "\n",
    "def add_many(*nums):\n",
    "    sum = 0\n",
    "    for s in nums:              # nums의 모든 값을 더한다\n",
    "        sum += s\n",
    "    return sum\n",
    "\n",
    "add_many(10, 20, 30)            # 10 + 20 + 30 = 60"
   ]
  },
  {
   "cell_type": "markdown",
   "metadata": {},
   "source": [
    "> solution2 : 띄어쓰기로 구분된 데이터를 입력받기"
   ]
  },
  {
   "cell_type": "code",
   "execution_count": 38,
   "metadata": {},
   "outputs": [
    {
     "name": "stdout",
     "output_type": "stream",
     "text": [
      "50\n"
     ]
    }
   ],
   "source": [
    "del sum                                         #TypeError: int' object is not callable\n",
    "                                                #위에서 sum을 변수로 써서 오류가 생겼다 -> 변수 sum 삭제 \n",
    "\n",
    "num = input(\"숫자를 입력하세요 \").split()      # 입력받은 데이터를 띄어쓰기 기준으로 나누어 num 리스트에 저장\n",
    "\n",
    "nums = list(map(int, num))                      # list(map(함수, 리스트)) num리스트 전부를 정수형으로 변환\n",
    "print(sum(nums))\n",
    "\n"
   ]
  }
 ],
 "metadata": {
  "interpreter": {
   "hash": "8931d08a56ba8ec5bd4013e6d6c9066a90d099ecd0b9731835efa4c48cf46a24"
  },
  "kernelspec": {
   "display_name": "Python 3.10.1 64-bit",
   "language": "python",
   "name": "python3"
  },
  "language_info": {
   "codemirror_mode": {
    "name": "ipython",
    "version": 3
   },
   "file_extension": ".py",
   "mimetype": "text/x-python",
   "name": "python",
   "nbconvert_exporter": "python",
   "pygments_lexer": "ipython3",
   "version": "3.10.1"
  },
  "orig_nbformat": 4
 },
 "nbformat": 4,
 "nbformat_minor": 2
}
