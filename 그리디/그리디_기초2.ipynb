{
 "cells": [
  {
   "cell_type": "markdown",
   "id": "d8a68774",
   "metadata": {},
   "source": [
    "# 그리디_기초2"
   ]
  },
  {
   "cell_type": "markdown",
   "id": "17258767",
   "metadata": {},
   "source": [
    "# 곱하기 혹은 더하기\n",
    "각 자리가 숫자(0부터9)로만 이루어진 문자열 S가 주어졌을때, 왼쪽부터 오른쪽으로<br>\n",
    "하나씩 모든 수자를 확인하며 숫자 사이에 'x' 혹은 '+' 연산자를 넣어 결과적으로 만들어질 수 있는<br>\n",
    "가장 큰 수를 구하는 프로그램을 작성하세요.<br>\n",
    "단, +보다 x를 먼저 계산하는 일반적인 방식과는 달리, 모든 연산은 왼쪽에서부터 순서대로 이루어진다고<br>\n",
    "가정합니다.<br>\n",
    "예를 들어 02984라는 문자열로 만들 수 있는 가장 큰 수는 ((((0+2)* 9)* 8)* 4) = 576 입니다"
   ]
  },
  {
   "cell_type": "markdown",
   "id": "5f8e19d9",
   "metadata": {},
   "source": [
    "## 시도(틀림)"
   ]
  },
  {
   "cell_type": "code",
   "execution_count": 1,
   "id": "202a486c",
   "metadata": {
    "ExecuteTime": {
     "end_time": "2022-11-01T13:44:40.771558Z",
     "start_time": "2022-11-01T13:44:36.168981Z"
    }
   },
   "outputs": [
    {
     "name": "stdout",
     "output_type": "stream",
     "text": [
      "02984\n"
     ]
    }
   ],
   "source": [
    "n = input()"
   ]
  },
  {
   "cell_type": "code",
   "execution_count": 6,
   "id": "571573b7",
   "metadata": {
    "ExecuteTime": {
     "end_time": "2022-11-01T13:52:22.699965Z",
     "start_time": "2022-11-01T13:52:22.684009Z"
    }
   },
   "outputs": [
    {
     "name": "stdout",
     "output_type": "stream",
     "text": [
      "576\n"
     ]
    }
   ],
   "source": [
    "# 0을 곱하거나 1을 곱하는 상황이 아니면 무조건 곱셈이 먼저\n",
    "\n",
    "result = int(n[0]) # 처음 시작하는 숫자\n",
    "\n",
    "for i in range(0,len(n)-1):\n",
    "    if (n[i] == '1') | (n[i]=='0'):\n",
    "        result = result + int(n[i+1])\n",
    "    else:\n",
    "        result = result * int(n[i+1])\n",
    "        \n",
    "print(result)"
   ]
  },
  {
   "cell_type": "code",
   "execution_count": 7,
   "id": "a95ec6c6",
   "metadata": {
    "ExecuteTime": {
     "end_time": "2022-11-01T13:53:59.698921Z",
     "start_time": "2022-11-01T13:53:59.688950Z"
    }
   },
   "outputs": [],
   "source": [
    "# 처음 숫자와 앞으로 곱해지는 숫자 둘다 고려했어야 했다. 처음 숫자만 고려"
   ]
  },
  {
   "cell_type": "markdown",
   "id": "01229d6b",
   "metadata": {},
   "source": [
    "## 수정"
   ]
  },
  {
   "cell_type": "code",
   "execution_count": 10,
   "id": "7552f256",
   "metadata": {
    "ExecuteTime": {
     "end_time": "2022-11-01T14:28:19.224960Z",
     "start_time": "2022-11-01T14:28:19.213120Z"
    }
   },
   "outputs": [
    {
     "name": "stdout",
     "output_type": "stream",
     "text": [
      "576\n"
     ]
    }
   ],
   "source": [
    "result = int(n[0]) # 처음 시작하는 숫자\n",
    "\n",
    "for i in range(0,len(n)-1):\n",
    "    if (n[i] == '1') | (n[i]=='0') | (n[i+1] == '1') | (n[i+1]=='0'): \n",
    "        result = result + int(n[i+1])\n",
    "    else:\n",
    "        result = result * int(n[i+1])\n",
    "        \n",
    "print(result)"
   ]
  },
  {
   "cell_type": "markdown",
   "id": "77001dbf",
   "metadata": {},
   "source": [
    "## 해답"
   ]
  },
  {
   "cell_type": "code",
   "execution_count": 9,
   "id": "3d7d1cf0",
   "metadata": {
    "ExecuteTime": {
     "end_time": "2022-11-01T14:28:15.675387Z",
     "start_time": "2022-11-01T14:28:15.658433Z"
    }
   },
   "outputs": [
    {
     "data": {
      "text/plain": [
       "576"
      ]
     },
     "execution_count": 9,
     "metadata": {},
     "output_type": "execute_result"
    }
   ],
   "source": [
    "result = int(n[0])\n",
    "\n",
    "for i in range(1,len(n)):\n",
    "    if (result<=1) | (int(n[i])<=1):\n",
    "        result += int(n[i])\n",
    "    else:\n",
    "        result *= int(n[i])\n",
    "result"
   ]
  },
  {
   "cell_type": "markdown",
   "id": "d5846cc0",
   "metadata": {},
   "source": [
    "# 모험가 길드\n",
    "* 한 마을에 모험가가 N명 있습니다. 모험가 길드에서는 N명의 모험가를 대상으로 '공포도'를 측정했는데<br>\n",
    "'공포도'가 높은 모험가는 쉽게 공포를 느껴 위험 상황에서 제대로 대처할 능력이 떨어집니다.\n",
    "* 모험가 길드장인 동빈이는 모험가 그룹을 안전하게 구성하고자 공포도가 X인 모험가는 반드시 X명 이상으로<br>\n",
    "구성한 모험가 그룹에 참여해야 여행을 떠날 수 있도록 규정했습니다.\n",
    "* 동빈이는 최대 몇개의 모험가 그룹을 만들 수 있는지 궁금합니다. N명의 모험가에 대한 정보가 주어졌을때, <br>\n",
    "여행을 떠날 수 있는 그룹수의 최댓값을 구하는 프로그램을 작성하세요.<br>\n",
    "<br>\n",
    "입력조건 모험가 수 :N <br>\n",
    "각 모험가의 공포도 값을 N 이하의 자연수로 주어지면 공백으로 구분"
   ]
  },
  {
   "cell_type": "code",
   "execution_count": 13,
   "id": "31efd8c8",
   "metadata": {
    "ExecuteTime": {
     "end_time": "2022-11-01T15:05:57.359147Z",
     "start_time": "2022-11-01T15:05:47.844969Z"
    }
   },
   "outputs": [
    {
     "name": "stdout",
     "output_type": "stream",
     "text": [
      "5\n",
      "2 3 1 2 2\n"
     ]
    }
   ],
   "source": [
    "n = int(input())\n",
    "data = list(map(int,input().split()))"
   ]
  },
  {
   "cell_type": "code",
   "execution_count": 14,
   "id": "ed89316b",
   "metadata": {
    "ExecuteTime": {
     "end_time": "2022-11-01T15:06:03.337163Z",
     "start_time": "2022-11-01T15:06:03.324401Z"
    }
   },
   "outputs": [
    {
     "data": {
      "text/plain": [
       "[2, 3, 1, 2, 2]"
      ]
     },
     "execution_count": 14,
     "metadata": {},
     "output_type": "execute_result"
    }
   ],
   "source": [
    "data"
   ]
  },
  {
   "cell_type": "code",
   "execution_count": 12,
   "id": "1fce15ae",
   "metadata": {
    "ExecuteTime": {
     "end_time": "2022-11-01T14:53:33.379109Z",
     "start_time": "2022-11-01T14:53:33.374121Z"
    }
   },
   "outputs": [],
   "source": [
    "# 앞 숫자가 지금 숫자보다 작거나 같으면 한 무리 "
   ]
  },
  {
   "cell_type": "code",
   "execution_count": null,
   "id": "6d4fb712",
   "metadata": {},
   "outputs": [],
   "source": [
    "x1 <= x2"
   ]
  }
 ],
 "metadata": {
  "kernelspec": {
   "display_name": "Python 3 (ipykernel)",
   "language": "python",
   "name": "python3"
  },
  "language_info": {
   "codemirror_mode": {
    "name": "ipython",
    "version": 3
   },
   "file_extension": ".py",
   "mimetype": "text/x-python",
   "name": "python",
   "nbconvert_exporter": "python",
   "pygments_lexer": "ipython3",
   "version": "3.9.7"
  },
  "toc": {
   "base_numbering": 1,
   "nav_menu": {},
   "number_sections": true,
   "sideBar": true,
   "skip_h1_title": false,
   "title_cell": "Table of Contents",
   "title_sidebar": "Contents",
   "toc_cell": false,
   "toc_position": {},
   "toc_section_display": true,
   "toc_window_display": false
  },
  "varInspector": {
   "cols": {
    "lenName": 16,
    "lenType": 16,
    "lenVar": 40
   },
   "kernels_config": {
    "python": {
     "delete_cmd_postfix": "",
     "delete_cmd_prefix": "del ",
     "library": "var_list.py",
     "varRefreshCmd": "print(var_dic_list())"
    },
    "r": {
     "delete_cmd_postfix": ") ",
     "delete_cmd_prefix": "rm(",
     "library": "var_list.r",
     "varRefreshCmd": "cat(var_dic_list()) "
    }
   },
   "types_to_exclude": [
    "module",
    "function",
    "builtin_function_or_method",
    "instance",
    "_Feature"
   ],
   "window_display": false
  }
 },
 "nbformat": 4,
 "nbformat_minor": 5
}
