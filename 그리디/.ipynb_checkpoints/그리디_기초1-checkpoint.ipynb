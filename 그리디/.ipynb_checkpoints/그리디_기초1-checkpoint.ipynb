{
 "cells": [
  {
   "cell_type": "markdown",
   "id": "d8b1452d",
   "metadata": {},
   "source": [
    "# 거스름 돈 문제_ 기초"
   ]
  },
  {
   "cell_type": "markdown",
   "id": "b63a7128",
   "metadata": {
    "ExecuteTime": {
     "end_time": "2022-10-31T13:00:08.412661Z",
     "start_time": "2022-10-31T13:00:08.403687Z"
    }
   },
   "source": [
    "당신은 음식점의 계산을 도와주는 점원입니다.\n",
    "카운터에는 거스름돈으로 사용할 500원, 100원, 50원, 10원짜리 동전이 무한히 존재한다고 가정합니다.\n",
    "손님에게 거슬러 주어야 할 돈이 N원일 때 거슬러 주어야 할 동전의 최소 개수를 구하세요.\n",
    "단, 거슬러 줘야 할 돈 N은 항상 10의 배수 입니다."
   ]
  },
  {
   "cell_type": "markdown",
   "id": "8051d6f6",
   "metadata": {},
   "source": [
    "---"
   ]
  },
  {
   "cell_type": "markdown",
   "id": "a2e9ff50",
   "metadata": {},
   "source": [
    "## 핵심\n",
    "가장 큰 화폐 단위부터 돈을 거슬러 주는 것이 최적의 해를 보장하는 이유?<br>\n",
    "-> 큰 단위가 항상 작은 단위의 배수이므로 작은 단위의 동전들을 종합해 다른 해가 나올 수 없기 때문<br>\n",
    "-> 그리디 알고리즘을 사용할 수 있는 근거를 찾아야함"
   ]
  },
  {
   "cell_type": "code",
   "execution_count": 2,
   "id": "a5fdba19",
   "metadata": {
    "ExecuteTime": {
     "end_time": "2022-10-31T13:14:32.120741Z",
     "start_time": "2022-10-31T13:14:32.106777Z"
    }
   },
   "outputs": [
    {
     "name": "stdout",
     "output_type": "stream",
     "text": [
      "6\n",
      "0\n"
     ]
    }
   ],
   "source": [
    "n = 1260\n",
    "count = 0\n",
    "\n",
    "array = [500,100,50,10]\n",
    "\n",
    "for coin in array:\n",
    "    count += n//coin\n",
    "    n = n%coin\n",
    "\n",
    "print(count)\n",
    "print(n)"
   ]
  },
  {
   "cell_type": "markdown",
   "id": "e3e9704d",
   "metadata": {},
   "source": [
    " # <문제> 1이 될 때까지"
   ]
  },
  {
   "cell_type": "markdown",
   "id": "4dffadf9",
   "metadata": {},
   "source": [
    "어떠한 수 N이 1이 될때까지 다음의 두 과정 중 하나를 반복적으로 선택하여 수행하려고 합니다.\n",
    "단, 두번째 연산은 N이 K로 나누어 떨어질때만 선택할 수 있습니다.\n",
    "1. N에서 1을 뺍니다\n",
    "2. N을 K로 나눕니다\n",
    "\n",
    "N과 K가 주어졌을 때 N이 1이 될때까지 1번 혹은 2번의 과정을 수행해야 하는 최소횟수를 구하는 프로그램을 작성하시오"
   ]
  },
  {
   "cell_type": "markdown",
   "id": "6083a473",
   "metadata": {},
   "source": [
    "## 시도"
   ]
  },
  {
   "cell_type": "code",
   "execution_count": 16,
   "id": "cda0ece8",
   "metadata": {
    "ExecuteTime": {
     "end_time": "2022-10-31T13:34:15.838881Z",
     "start_time": "2022-10-31T13:34:13.446740Z"
    }
   },
   "outputs": [
    {
     "name": "stdout",
     "output_type": "stream",
     "text": [
      "25 5\n",
      "N : 25\n",
      "K : 5\n"
     ]
    }
   ],
   "source": [
    "N,K = map(int,input().split())\n",
    "print('N :', N)\n",
    "print('K :', K)"
   ]
  },
  {
   "cell_type": "code",
   "execution_count": 17,
   "id": "4c3cfbcd",
   "metadata": {
    "ExecuteTime": {
     "end_time": "2022-10-31T13:34:16.483827Z",
     "start_time": "2022-10-31T13:34:16.473612Z"
    }
   },
   "outputs": [
    {
     "name": "stdout",
     "output_type": "stream",
     "text": [
      "25\n",
      "5\n",
      "1\n"
     ]
    }
   ],
   "source": [
    "count = 0\n",
    "print(N)\n",
    "while N!=1:\n",
    "    if N % K == 0 :\n",
    "        N = N//K  # K로 나눠진다면 N = 몫\n",
    "        print(N)\n",
    "        count +=1\n",
    "    else:\n",
    "        N = N-1\n",
    "        print(N)\n",
    "        count+=1"
   ]
  },
  {
   "cell_type": "code",
   "execution_count": 18,
   "id": "893b3327",
   "metadata": {
    "ExecuteTime": {
     "end_time": "2022-10-31T13:34:18.717572Z",
     "start_time": "2022-10-31T13:34:18.698348Z"
    }
   },
   "outputs": [
    {
     "data": {
      "text/plain": [
       "2"
      ]
     },
     "execution_count": 18,
     "metadata": {},
     "output_type": "execute_result"
    }
   ],
   "source": [
    "count"
   ]
  },
  {
   "cell_type": "code",
   "execution_count": 23,
   "id": "827cdac6",
   "metadata": {
    "ExecuteTime": {
     "end_time": "2022-10-31T14:28:23.059167Z",
     "start_time": "2022-10-31T14:28:20.778481Z"
    }
   },
   "outputs": [
    {
     "name": "stdout",
     "output_type": "stream",
     "text": [
      "30 4\n",
      "N : 30\n",
      "K : 4\n",
      "30\n",
      "29\n",
      "28\n",
      "7\n",
      "6\n",
      "5\n",
      "4\n",
      "1\n",
      "count: 7\n"
     ]
    }
   ],
   "source": [
    "N,K = map(int,input().split())\n",
    "print('N :', N)\n",
    "print('K :', K)\n",
    "\n",
    "count = 0\n",
    "print(N)\n",
    "while N!=1:\n",
    "    if N % K == 0 :\n",
    "        N = N//K  # K로 나눠진다면 N = 몫\n",
    "        print(N)\n",
    "        count +=1\n",
    "    else:\n",
    "        N = N-1\n",
    "        print(N)\n",
    "        count+=1\n",
    "print('count:',count)"
   ]
  },
  {
   "cell_type": "markdown",
   "id": "c12c43d6",
   "metadata": {},
   "source": [
    "## 해답(다른풀이)"
   ]
  },
  {
   "cell_type": "code",
   "execution_count": 21,
   "id": "e9b91b8c",
   "metadata": {
    "ExecuteTime": {
     "end_time": "2022-10-31T14:27:35.875348Z",
     "start_time": "2022-10-31T14:27:30.367248Z"
    }
   },
   "outputs": [
    {
     "name": "stdout",
     "output_type": "stream",
     "text": [
      "30 4\n",
      "7\n"
     ]
    }
   ],
   "source": [
    "n,k = map(int,input().split())\n",
    "\n",
    "count = 0\n",
    "\n",
    "while True:\n",
    "\n",
    "    target = (n//k)*k # 나누어 떨어지는 수\n",
    "    count += (n-target) # 나누어 떨어지는 수가 될때까지 빼는 횟수\n",
    "    n= target\n",
    "    \n",
    "    # N이 K보다 작을 때 반복문 탈출\n",
    "    if n<k:\n",
    "        break\n",
    "        \n",
    "    count+=1 \n",
    "    n = n//k\n",
    "\n",
    "# 마지막 남은 수에 대해 1이 될때까지 1씩 빼기\n",
    "count += (n-1)\n",
    "print(count)"
   ]
  },
  {
   "cell_type": "code",
   "execution_count": null,
   "id": "e205408c",
   "metadata": {},
   "outputs": [],
   "source": []
  }
 ],
 "metadata": {
  "kernelspec": {
   "display_name": "Python 3 (ipykernel)",
   "language": "python",
   "name": "python3"
  },
  "language_info": {
   "codemirror_mode": {
    "name": "ipython",
    "version": 3
   },
   "file_extension": ".py",
   "mimetype": "text/x-python",
   "name": "python",
   "nbconvert_exporter": "python",
   "pygments_lexer": "ipython3",
   "version": "3.9.7"
  },
  "toc": {
   "base_numbering": 1,
   "nav_menu": {},
   "number_sections": true,
   "sideBar": true,
   "skip_h1_title": false,
   "title_cell": "Table of Contents",
   "title_sidebar": "Contents",
   "toc_cell": false,
   "toc_position": {},
   "toc_section_display": true,
   "toc_window_display": false
  },
  "varInspector": {
   "cols": {
    "lenName": 16,
    "lenType": 16,
    "lenVar": 40
   },
   "kernels_config": {
    "python": {
     "delete_cmd_postfix": "",
     "delete_cmd_prefix": "del ",
     "library": "var_list.py",
     "varRefreshCmd": "print(var_dic_list())"
    },
    "r": {
     "delete_cmd_postfix": ") ",
     "delete_cmd_prefix": "rm(",
     "library": "var_list.r",
     "varRefreshCmd": "cat(var_dic_list()) "
    }
   },
   "types_to_exclude": [
    "module",
    "function",
    "builtin_function_or_method",
    "instance",
    "_Feature"
   ],
   "window_display": false
  }
 },
 "nbformat": 4,
 "nbformat_minor": 5
}
