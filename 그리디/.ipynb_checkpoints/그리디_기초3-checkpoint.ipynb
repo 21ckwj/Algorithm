{
 "cells": [
  {
   "cell_type": "markdown",
   "id": "87c84a43",
   "metadata": {},
   "source": [
    " # 그리디_기초3"
   ]
  },
  {
   "cell_type": "markdown",
   "id": "4ea45661",
   "metadata": {},
   "source": [
    "# 상하좌우"
   ]
  },
  {
   "cell_type": "markdown",
   "id": "87e4635c",
   "metadata": {},
   "source": [
    "여행가 A는 N * N 크기의 정사각형 공간 위에 서 있습니다. 이 공간은 1 * 1 크기의 정사각형으로 나누어져 있습니다.<br>\n",
    "가장 왼쪽 위 좌표는 (1,1)이며, 가장 오른쪽 아래 좌표는 (N,N)에 해당합니다. 여행가 A는 상,하,좌,우 방향으로<br>\n",
    "이동할 수 있으며, 시작 좌표는 항상 (1,1) 입니다. 우리 앞에는 여행가 A가 이동할 계획이 적힌 계획서가 놓여있습니다.<br>\n",
    "<br>\n",
    "계획서에는 하나의 줄에 띄어쓰기를 기준으로 하여 L,R,U,D 중 하나의 문자가 반복적으로 적혀 있습니다.<br>\n",
    "각 의미는 왼쪽, 오른쪽, 위로, 아래로  한칸 이동 입니다.<br>\n",
    "<br>\n",
    "단 정사각형 공간을 벗어난 공간 움직임은 무시됩니다.<br>\n",
    "\n",
    "ex)입력값<br>\n",
    "N<br>\n",
    "R R R U D D<br>\n",
    "\n",
    "최종목적지 좌표를 구하시오\n"
   ]
  },
  {
   "cell_type": "markdown",
   "id": "f0c93236",
   "metadata": {},
   "source": [
    "## 시도"
   ]
  },
  {
   "cell_type": "code",
   "execution_count": 15,
   "id": "2e887098",
   "metadata": {
    "ExecuteTime": {
     "end_time": "2022-11-02T13:00:29.052914Z",
     "start_time": "2022-11-02T13:00:20.589918Z"
    }
   },
   "outputs": [
    {
     "name": "stdout",
     "output_type": "stream",
     "text": [
      "5\n",
      "R R R U D D\n"
     ]
    }
   ],
   "source": [
    "n = int(input())\n",
    "d = list(input().split())"
   ]
  },
  {
   "cell_type": "code",
   "execution_count": null,
   "id": "ab75af27",
   "metadata": {},
   "outputs": [],
   "source": []
  },
  {
   "cell_type": "code",
   "execution_count": null,
   "id": "e8435dba",
   "metadata": {},
   "outputs": [],
   "source": []
  },
  {
   "cell_type": "markdown",
   "id": "6bc19889",
   "metadata": {},
   "source": [
    "# 시각문제"
   ]
  },
  {
   "cell_type": "markdown",
   "id": "0e1eb364",
   "metadata": {},
   "source": [
    "정수 N이 입력되면 00시 00분 00초부터 N시 59분 59초까지의 모든 시각 중에서 3이 하나라도<br>\n",
    "포함되는 모든 경우의 수를 구하는 프로그램을 작성하시오.<br>\n",
    "<br>\n",
    "ex) N = 1<br>\n",
    "00시 00분 03초<br>\n",
    "00시 13분 30초 ..<br>"
   ]
  },
  {
   "cell_type": "code",
   "execution_count": 21,
   "id": "0e7989ba",
   "metadata": {
    "ExecuteTime": {
     "end_time": "2022-11-02T14:36:42.377437Z",
     "start_time": "2022-11-02T14:36:40.779399Z"
    }
   },
   "outputs": [
    {
     "name": "stdout",
     "output_type": "stream",
     "text": [
      "5\n"
     ]
    }
   ],
   "source": [
    "N = int(input())"
   ]
  },
  {
   "cell_type": "code",
   "execution_count": null,
   "id": "25459000",
   "metadata": {},
   "outputs": [],
   "source": [
    "count = 0\n",
    "for n in N:\n",
    "    count+=1\n",
    "    for \n",
    "    "
   ]
  }
 ],
 "metadata": {
  "kernelspec": {
   "display_name": "Python 3 (ipykernel)",
   "language": "python",
   "name": "python3"
  },
  "language_info": {
   "codemirror_mode": {
    "name": "ipython",
    "version": 3
   },
   "file_extension": ".py",
   "mimetype": "text/x-python",
   "name": "python",
   "nbconvert_exporter": "python",
   "pygments_lexer": "ipython3",
   "version": "3.9.7"
  },
  "toc": {
   "base_numbering": 1,
   "nav_menu": {},
   "number_sections": true,
   "sideBar": true,
   "skip_h1_title": false,
   "title_cell": "Table of Contents",
   "title_sidebar": "Contents",
   "toc_cell": false,
   "toc_position": {},
   "toc_section_display": true,
   "toc_window_display": false
  },
  "varInspector": {
   "cols": {
    "lenName": 16,
    "lenType": 16,
    "lenVar": 40
   },
   "kernels_config": {
    "python": {
     "delete_cmd_postfix": "",
     "delete_cmd_prefix": "del ",
     "library": "var_list.py",
     "varRefreshCmd": "print(var_dic_list())"
    },
    "r": {
     "delete_cmd_postfix": ") ",
     "delete_cmd_prefix": "rm(",
     "library": "var_list.r",
     "varRefreshCmd": "cat(var_dic_list()) "
    }
   },
   "types_to_exclude": [
    "module",
    "function",
    "builtin_function_or_method",
    "instance",
    "_Feature"
   ],
   "window_display": false
  }
 },
 "nbformat": 4,
 "nbformat_minor": 5
}
