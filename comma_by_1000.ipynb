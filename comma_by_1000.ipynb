{
 "cells": [
  {
   "cell_type": "markdown",
   "id": "493ca274",
   "metadata": {},
   "source": [
    "### quiz1\n",
    "___\n",
    "#### 7자리 이상의 임의의 정수를 입력 받은 후, 1000 단위 구별자를 추가하여 리턴하는 코드를 작성하시오\n",
    "#### ex) 123456789 =>123,456,789\n"
   ]
  },
  {
   "cell_type": "markdown",
   "id": "b85972f3",
   "metadata": {},
   "source": [
    "### 처음 접근: \n",
    "#### insert(인덱스, \",\")를 통해 구분하겠다"
   ]
  },
  {
   "cell_type": "markdown",
   "id": "fc076136",
   "metadata": {},
   "source": [
    "#### 몰랐던 점: 문자열도 list라 생각했지만 insert함수는 문자열에 쓸 수 없다. \n",
    "####             : 문자열->리스트: split()\n",
    "####             : 리스트->문자열: join()"
   ]
  },
  {
   "cell_type": "code",
   "execution_count": 24,
   "id": "bfe2da2d",
   "metadata": {},
   "outputs": [
    {
     "name": "stdout",
     "output_type": "stream",
     "text": [
      "7자리 이상의 정수를 입력해 주세요:12345678\n",
      "123,456,78\n"
     ]
    }
   ],
   "source": [
    "#처음 생각한대로 코드를 완성시켰다면\n",
    "\n",
    "num = input(\"7자리 이상의 정수를 입력해 주세요:\") # 숫자를 문자열로 입력받음 \n",
    "num = list(num)                                   # 리스트로 바꿔줌 \n",
    "\n",
    "\n",
    "for i in range(len(num),0,-1):                     # 거꾸로 한칸씩 해서 3번째 마다 콤마를 찍고 싶다.\n",
    "    if (i%3 ==0) and (i!=len(num)):\n",
    "        num.insert(i,\",\")\n",
    "\n",
    "# num = str(num) 이렇게 불가능\n",
    "num = ''.join(num)                               # 리스트 -> 문자열\n",
    "print(num)                                  \n",
    "# 123456789 입력시  123,456,789 출력\n",
    "# 12345678  입력시  123,456,78  출력 오류!  --> 숫자 길이에 따라 인덱스를 3으로 나눈 나머지 값이 계속 달라짐\n",
    "# 거꾸로 한칸씩 해서 3번째 마다 콤마를 찍고 싶다 : 나머지를 쓰면 논리 오류\n"
   ]
  },
  {
   "cell_type": "code",
   "execution_count": 37,
   "id": "4f5fb2d9",
   "metadata": {
    "collapsed": true
   },
   "outputs": [
    {
     "name": "stdout",
     "output_type": "stream",
     "text": [
      "7자리 이상의 정수를 입력해 주세요:123456789\n",
      "['1', ',', '2', ',', '3', ',', '4', ',', '5', ',', '6', ',', '7', ',', '8', ',', '9', ',']\n"
     ]
    }
   ],
   "source": [
    "# 끝에서부터 인덱스를 3자리씩 빼보자\n",
    "\n",
    "# num = input(\"7자리 이상의 정수를 입력해 주세요:\")\n",
    "# num = list(num)    \n",
    "\n",
    "# for i in range(len(num),0,-1): \n",
    "#     if i >= len(num)-4:\n",
    "#         pass\n",
    "# # for n in num:\n",
    "# #     num.insert(i,',')\n",
    "# # print(num)\n",
    "\n",
    "# 너무 복잡하고 어렵다"
   ]
  },
  {
   "cell_type": "markdown",
   "id": "c3894b40",
   "metadata": {},
   "source": [
    "### *간단한 강사님 코드\n",
    "___\n",
    "#### 1)인덱스를 거꾸로 쓰는 대신 -> 리스트를 거꾸로 바꾸고 나중에 다시 원상복귀 \n",
    "#### 2)enumerate() 함수를 사용해서 인덱스와 value값을 쉽게 알 수 있었음"
   ]
  },
  {
   "cell_type": "code",
   "execution_count": 31,
   "id": "9af63114",
   "metadata": {},
   "outputs": [
    {
     "name": "stdout",
     "output_type": "stream",
     "text": [
      "7자리 이상의 정수를 입력해 주세요:1234567\n",
      "1,234,567\n"
     ]
    }
   ],
   "source": [
    "# 강사님 코드 \n",
    "# 인덱스를 거꾸로 쓰는 대신 -> 리스트를 거꾸로 바꾸고 나중에 다시 원상복귀\n",
    "# enumerate() 함수를 사용해서 인덱스와 value값을 쉽게 알 수 있었음\n",
    "\n",
    "num = input(\"7자리 이상의 정수를 입력해 주세요:\")\n",
    "num = num[::-1]\n",
    "word = \"\"\n",
    "\n",
    "for i,c in enumerate(num):             # enumerate(num) = (0, ) (1, ) (2, )....\n",
    "                                       \n",
    "    if (i%3==2) & (i != len(num)):    # i=0 부터 시작이기 때문에 i=2일때 3번째가 된다 즉, 3으로 나눈 나머지가 2일때 3번째 숫자\n",
    "        word += c +\",\"                # 3번째 숫자는 value값과 ',' 를 같이 비어있는 문자열에 넣어준다.\n",
    "    \n",
    "    else:\n",
    "        word += c\n",
    "        \n",
    "word = word[::-1]\n",
    "print(word)"
   ]
  },
  {
   "cell_type": "code",
   "execution_count": null,
   "id": "865f1c57",
   "metadata": {},
   "outputs": [],
   "source": []
  }
 ],
 "metadata": {
  "kernelspec": {
   "display_name": "Python 3 (ipykernel)",
   "language": "python",
   "name": "python3"
  },
  "language_info": {
   "codemirror_mode": {
    "name": "ipython",
    "version": 3
   },
   "file_extension": ".py",
   "mimetype": "text/x-python",
   "name": "python",
   "nbconvert_exporter": "python",
   "pygments_lexer": "ipython3",
   "version": "3.9.7"
  }
 },
 "nbformat": 4,
 "nbformat_minor": 5
}
