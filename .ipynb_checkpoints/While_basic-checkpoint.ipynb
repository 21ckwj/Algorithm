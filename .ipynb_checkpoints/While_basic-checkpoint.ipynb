{
 "cells": [
  {
   "cell_type": "markdown",
   "id": "b63703a0",
   "metadata": {},
   "source": [
    "### Q.1~10까지 정수를 출력하는 while문에서 continue와 break를 이용해서 3,4,5,6만 출력하도록 하시오."
   ]
  },
  {
   "cell_type": "markdown",
   "id": "9890b089",
   "metadata": {},
   "source": [
    "### ***problem*** :왜 while 문이 멈추지 않을까"
   ]
  },
  {
   "cell_type": "code",
   "execution_count": 4,
   "id": "24de89a8",
   "metadata": {
    "scrolled": true
   },
   "outputs": [
    {
     "ename": "KeyboardInterrupt",
     "evalue": "",
     "output_type": "error",
     "traceback": [
      "\u001b[1;31m---------------------------------------------------------------------------\u001b[0m",
      "\u001b[1;31mKeyboardInterrupt\u001b[0m                         Traceback (most recent call last)",
      "\u001b[1;32m~\\AppData\\Local\\Temp/ipykernel_1956/3494165867.py\u001b[0m in \u001b[0;36m<module>\u001b[1;34m\u001b[0m\n\u001b[0;32m      4\u001b[0m \u001b[1;32mwhile\u001b[0m \u001b[0mn\u001b[0m\u001b[1;33m<=\u001b[0m\u001b[1;36m10\u001b[0m\u001b[1;33m:\u001b[0m            \u001b[1;31m# n=1인 상태 10보다 작으니\u001b[0m\u001b[1;33m\u001b[0m\u001b[1;33m\u001b[0m\u001b[0m\n\u001b[0;32m      5\u001b[0m     \u001b[1;32mif\u001b[0m \u001b[0mn\u001b[0m\u001b[1;33m<=\u001b[0m\u001b[1;36m2\u001b[0m\u001b[1;33m:\u001b[0m            \u001b[1;31m# n<=2 니깐 continue\u001b[0m\u001b[1;33m\u001b[0m\u001b[1;33m\u001b[0m\u001b[0m\n\u001b[1;32m----> 6\u001b[1;33m         \u001b[1;32mcontinue\u001b[0m\u001b[1;33m\u001b[0m\u001b[1;33m\u001b[0m\u001b[0m\n\u001b[0m\u001b[0;32m      7\u001b[0m     \u001b[1;32mif\u001b[0m \u001b[0mn\u001b[0m\u001b[1;33m<=\u001b[0m\u001b[1;36m6\u001b[0m\u001b[1;33m:\u001b[0m            \u001b[1;31m# n이 3부터 두번째 if문 조건 만족\u001b[0m\u001b[1;33m\u001b[0m\u001b[1;33m\u001b[0m\u001b[0m\n\u001b[0;32m      8\u001b[0m         \u001b[0mprint\u001b[0m\u001b[1;33m(\u001b[0m\u001b[0mn\u001b[0m\u001b[1;33m)\u001b[0m\u001b[1;33m\u001b[0m\u001b[1;33m\u001b[0m\u001b[0m\n",
      "\u001b[1;31mKeyboardInterrupt\u001b[0m: "
     ]
    }
   ],
   "source": [
    "# 처음 나의 코드와 내 논리 \n",
    "\n",
    "n=1\n",
    "while n<=10:            \n",
    "    if n<=2:            \n",
    "        continue        \n",
    "    if n<=6:            \n",
    "        print(n)\n",
    "    if n>6:\n",
    "        break\n",
    "    n+=1\n",
    "    \n",
    "#코드가 끝나지 않고 계속 돌아간다"
   ]
  },
  {
   "cell_type": "markdown",
   "id": "77f58e76",
   "metadata": {},
   "source": [
    "### ***solution*** : 논리를 직접 써보자 + continue 에 대해 정확히 몰랐다"
   ]
  },
  {
   "cell_type": "code",
   "execution_count": 11,
   "id": "3ff7fa81",
   "metadata": {
    "scrolled": true
   },
   "outputs": [
    {
     "ename": "KeyboardInterrupt",
     "evalue": "",
     "output_type": "error",
     "traceback": [
      "\u001b[1;31m---------------------------------------------------------------------------\u001b[0m",
      "\u001b[1;31mKeyboardInterrupt\u001b[0m                         Traceback (most recent call last)",
      "\u001b[1;32m~\\AppData\\Local\\Temp/ipykernel_1956/1260423046.py\u001b[0m in \u001b[0;36m<module>\u001b[1;34m\u001b[0m\n\u001b[0;32m      1\u001b[0m \u001b[0mn\u001b[0m\u001b[1;33m=\u001b[0m\u001b[1;36m1\u001b[0m\u001b[1;33m\u001b[0m\u001b[1;33m\u001b[0m\u001b[0m\n\u001b[0;32m      2\u001b[0m \u001b[1;32mwhile\u001b[0m \u001b[0mn\u001b[0m\u001b[1;33m<=\u001b[0m\u001b[1;36m10\u001b[0m\u001b[1;33m:\u001b[0m            \u001b[1;31m# n=1인 상태 10보다 작으니 다음 진행\u001b[0m\u001b[1;33m\u001b[0m\u001b[1;33m\u001b[0m\u001b[0m\n\u001b[1;32m----> 3\u001b[1;33m     \u001b[1;32mif\u001b[0m \u001b[0mn\u001b[0m\u001b[1;33m<=\u001b[0m\u001b[1;36m2\u001b[0m\u001b[1;33m:\u001b[0m            \u001b[1;31m# n=1 즉, n<=2 니깐 continue\u001b[0m\u001b[1;33m\u001b[0m\u001b[1;33m\u001b[0m\u001b[0m\n\u001b[0m\u001b[0;32m      4\u001b[0m         \u001b[1;32mcontinue\u001b[0m        \u001b[1;31m# continue -> while n<=10 부터 다시시작\u001b[0m\u001b[1;33m\u001b[0m\u001b[1;33m\u001b[0m\u001b[0m\n\u001b[0;32m      5\u001b[0m                         \u001b[1;31m# n값 변화가 없어서 계속 위 3줄만 반복\u001b[0m\u001b[1;33m\u001b[0m\u001b[1;33m\u001b[0m\u001b[0m\n",
      "\u001b[1;31mKeyboardInterrupt\u001b[0m: "
     ]
    }
   ],
   "source": [
    "n=1\n",
    "while n<=10:            # n=1인 상태 10보다 작으니 다음 진행\n",
    "    if n<=2:            # n=1 즉, n<=2 니깐 continue            \n",
    "        continue        # continue -> while n<=10 부터 다시시작\n",
    "                        # n값 변화가 없어서 계속 위 3줄만 반복\n",
    "    if n<=6:             \n",
    "        print(n)\n",
    "    if n>6:\n",
    "        break\n",
    "    n+=1"
   ]
  },
  {
   "cell_type": "code",
   "execution_count": 12,
   "id": "eb0780ba",
   "metadata": {},
   "outputs": [
    {
     "name": "stdout",
     "output_type": "stream",
     "text": [
      "3\n",
      "4\n",
      "5\n",
      "6\n"
     ]
    }
   ],
   "source": [
    "# n값 변화를 중간에 줘야 끝까지 돌아간다\n",
    "\n",
    "n=1\n",
    "while n<=10:            # n=1인 상태 10보다 작으니 다음 진행\n",
    "    if n<=2:            # n=1 즉, n<=2 니깐 n값에 +1 -> n=2 \n",
    "        n+=1            \n",
    "        continue        # continue -> while n<=10 부터 다시시작\n",
    "                        \n",
    "    if n<=6:            #n=3 일때 ,2< n <=6 이므로 print(n) 실행  \n",
    "        print(n)\n",
    "    if n>6:\n",
    "        break\n",
    "    n+=1"
   ]
  }
 ],
 "metadata": {
  "kernelspec": {
   "display_name": "Python 3 (ipykernel)",
   "language": "python",
   "name": "python3"
  },
  "language_info": {
   "codemirror_mode": {
    "name": "ipython",
    "version": 3
   },
   "file_extension": ".py",
   "mimetype": "text/x-python",
   "name": "python",
   "nbconvert_exporter": "python",
   "pygments_lexer": "ipython3",
   "version": "3.9.7"
  }
 },
 "nbformat": 4,
 "nbformat_minor": 5
}
