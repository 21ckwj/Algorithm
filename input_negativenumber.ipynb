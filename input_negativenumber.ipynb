{
 "cells": [
  {
   "cell_type": "markdown",
   "metadata": {},
   "source": [
    "### Q. 사용자로부터 정수를 입력받아 양수, 음수를 판별하는 프로그램 작성(입력데이터 유효성 검증 처리 할 것)"
   ]
  },
  {
   "cell_type": "markdown",
   "metadata": {},
   "source": [
    ">#### *problem* : input 함수에 음수를 넣었을 시 유효성검증(isdigit 등)에서 정수로 인식 안됨"
   ]
  },
  {
   "cell_type": "code",
   "execution_count": 1,
   "metadata": {},
   "outputs": [
    {
     "name": "stdout",
     "output_type": "stream",
     "text": [
      "잘못입력했습니다\n"
     ]
    }
   ],
   "source": [
    "# # 나의 코드\n",
    "\n",
    "def d():                                           \n",
    "    num = input(\"숫자를 입력하세요\")\n",
    "    if num.isdigit():                                    # 정수이면 input값을 number 라는 변수에 넣어서 양수, 음수인지 출력\n",
    "        number = int(num)\n",
    "        if number > 0:\n",
    "            print(\"양수입니다\")\n",
    "        elif number < 0 :\n",
    "            print(\"음수 입니다.\")\n",
    "        else :\n",
    "            print(\" 0 입니다\")\n",
    "    else :\n",
    "        print(\"잘못입력했습니다\")                        #음수를 입력 시 \"잘못입력했습니다\" 출력 문제가 뭘까?\n",
    "d()\n"
   ]
  },
  {
   "cell_type": "markdown",
   "metadata": {},
   "source": [
    "> solution : 유효성 검증함수( .isdecimal(), .isdigit(), .isnumeric()) 모두 마이너스 기호(-)를 숫자의 일부가 아닌 문자로 판단한다.   \n",
    "            1. 유효성 검증의 방식을 바꾸거나   \n",
    "            2. 입력받은 데이터(음수, 실수)를 전처리 해야한다."
   ]
  },
  {
   "cell_type": "code",
   "execution_count": null,
   "metadata": {},
   "outputs": [],
   "source": [
    "#                양의정수     소수점,음수     제곱기호      분수기호\n",
    "# .isdecimal()      o             x               x             x     # 0~9의 숫자로 이루어져 있는지\n",
    "# .isdigit()        o             x               o             x     # 문자열이 숫자로 이루어져 있는지\n",
    "# .isnumeric()      o             x               o             o     # 수로 볼수 있는 경우     \n",
    "\n",
    "# 3가지 함수 모두 음수, 실수 인식하지 못한다.\n"
   ]
  },
  {
   "cell_type": "code",
   "execution_count": 7,
   "metadata": {},
   "outputs": [
    {
     "name": "stdout",
     "output_type": "stream",
     "text": [
      "잘못입력했습니다\n"
     ]
    }
   ],
   "source": [
    "def d():                                           \n",
    "    num = input(\"숫자를 입력하세요\")\n",
    "    if num.isnumeric():                                    # 정수이면 input값을 number 라는 변수에 넣어서 양수, 음수인지 출력\n",
    "        number = int(num)\n",
    "        if number > 0:\n",
    "            print(\"양수입니다\")\n",
    "        elif number < 0 :\n",
    "            print(\"음수 입니다.\")\n",
    "        else :\n",
    "            print(\" 0 입니다\")\n",
    "    else :\n",
    "        print(\"잘못입력했습니다\")                        #음수를 입력 시 \"잘못입력했습니다\" 출력 문제가 뭘까?\n",
    "d()\n"
   ]
  },
  {
   "cell_type": "code",
   "execution_count": null,
   "metadata": {},
   "outputs": [],
   "source": [
    "#강사님 코드                                            # 입력데이터가 문자 or 숫자 라는 가정. 나는 숫자 or 숫자가 아니다 로 나누고 싶다.\n",
    "\n",
    "input_data = input(\"정수를 하나 입력하세요: \")\n",
    "number = None\n",
    "\n",
    "# 입력데이터 유효성 검증\n",
    "\n",
    "# 숫자라면..\n",
    "if not input_data.isalpha():                \n",
    "    number = int(input_data)\n",
    "    print(\"입력값:\", number)\n",
    "# 문자열이 아니라면...\n",
    "else:\n",
    "    print(\"숫자가 아닙니다\")    \n",
    "    print(\"프로그램을 종료합니다\")\n",
    "    quit() \n",
    "\n",
    "# 양수/음수 판별\n",
    "if number > 0:\n",
    "    print(\"양수 입니다.\")\n",
    "if number < 0:\n",
    "    print(\"음수 입니다\")    \n",
    "if number == 0:\n",
    "    print(\"0 입니다.\") "
   ]
  },
  {
   "cell_type": "code",
   "execution_count": 11,
   "metadata": {},
   "outputs": [
    {
     "name": "stdout",
     "output_type": "stream",
     "text": [
      "-10\n"
     ]
    }
   ],
   "source": [
    "# 다른수강생(제우형) 코드 \n",
    "try:\n",
    "    dat = int(input())\n",
    "    if dat > 0:\n",
    "        print('+',dat)\n",
    "    elif dat < 0:\n",
    "        print(dat)\n",
    "    else:\n",
    "        print('0')\n",
    "except:\n",
    "    print('정수만 입력해주세요')"
   ]
  }
 ],
 "metadata": {
  "interpreter": {
   "hash": "8931d08a56ba8ec5bd4013e6d6c9066a90d099ecd0b9731835efa4c48cf46a24"
  },
  "kernelspec": {
   "display_name": "Python 3.10.1 64-bit",
   "language": "python",
   "name": "python3"
  },
  "language_info": {
   "codemirror_mode": {
    "name": "ipython",
    "version": 3
   },
   "file_extension": ".py",
   "mimetype": "text/x-python",
   "name": "python",
   "nbconvert_exporter": "python",
   "pygments_lexer": "ipython3",
   "version": "3.10.1"
  },
  "orig_nbformat": 4
 },
 "nbformat": 4,
 "nbformat_minor": 2
}
